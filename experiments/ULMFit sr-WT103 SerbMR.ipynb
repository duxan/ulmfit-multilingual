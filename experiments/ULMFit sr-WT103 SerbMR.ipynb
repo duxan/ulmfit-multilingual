{
 "cells": [
  {
   "cell_type": "code",
   "execution_count": null,
   "metadata": {},
   "outputs": [],
   "source": [
    "# !wget https://github.com/vukbatanovic/SerbMR/releases/download/v1.0/SerbMR-2C.csv"
   ]
  },
  {
   "cell_type": "code",
   "execution_count": 1,
   "metadata": {},
   "outputs": [],
   "source": [
    "import torch \n",
    "from fastai import *\n",
    "from fastai.text import *\n",
    "from fastai.core import *\n",
    "from pathlib import Path\n",
    "import pandas as pd\n",
    "import numpy as np"
   ]
  },
  {
   "cell_type": "markdown",
   "metadata": {},
   "source": [
    "#### Na osnovu Russian model-a: https://github.com/ademyanchuk/ulmfit-multilingual/blob/master/experiments/wiki-100-lm-rusent-class-v1.ipynb"
   ]
  },
  {
   "cell_type": "markdown",
   "metadata": {},
   "source": [
    "# Train an AWD-LSTM language model"
   ]
  },
  {
   "cell_type": "code",
   "execution_count": 2,
   "metadata": {},
   "outputs": [],
   "source": [
    "%reload_ext autoreload\n",
    "%autoreload 2\n",
    "%matplotlib inline"
   ]
  },
  {
   "cell_type": "code",
   "execution_count": 3,
   "metadata": {},
   "outputs": [],
   "source": [
    "from fastai.text import *\n",
    "from ulmfit.pretrain_lm import *\n",
    "\n",
    "cuda_id = 0\n",
    "torch.cuda.set_device(cuda_id)\n",
    "bs = 8"
   ]
  },
  {
   "cell_type": "code",
   "execution_count": 4,
   "metadata": {},
   "outputs": [
    {
     "data": {
      "text/plain": [
       "True"
      ]
     },
     "execution_count": 4,
     "metadata": {},
     "output_type": "execute_result"
    }
   ],
   "source": [
    "import torch\n",
    "torch.cuda.is_available()"
   ]
  },
  {
   "cell_type": "code",
   "execution_count": 5,
   "metadata": {},
   "outputs": [],
   "source": [
    "# use data from smaller sample of wiki\n",
    "# data is recieved through prepare_wiki.sh script\n",
    "wiki_data_path = Path('data/wiki/sr-100/')"
   ]
  },
  {
   "cell_type": "code",
   "execution_count": 6,
   "metadata": {},
   "outputs": [
    {
     "data": {
      "text/plain": [
       "[PosixPath('data/wiki/sr-100/tmp_lm'),\n",
       " PosixPath('data/wiki/sr-100/sr.wiki.train.tokens'),\n",
       " PosixPath('data/wiki/sr-100/sr.wiki.valid.tokens'),\n",
       " PosixPath('data/wiki/sr-100/sr.wiki.test.tokens'),\n",
       " PosixPath('data/wiki/sr-100/models')]"
      ]
     },
     "execution_count": 6,
     "metadata": {},
     "output_type": "execute_result"
    }
   ],
   "source": [
    "wiki_data_path.ls()"
   ]
  },
  {
   "cell_type": "code",
   "execution_count": 7,
   "metadata": {},
   "outputs": [],
   "source": [
    "# provide train and valid path\n",
    "trn_path = wiki_data_path/'sr.wiki.train.tokens'\n",
    "val_path = wiki_data_path/'sr.wiki.valid.tokens'"
   ]
  },
  {
   "cell_type": "code",
   "execution_count": 8,
   "metadata": {},
   "outputs": [],
   "source": [
    "# create a databunch object from data_frames\n",
    "# data_frames are provided through `read_wiki_articles` function\n",
    "# from `ulmfit.pretrain_lm`\n",
    "data_lm = TextLMDataBunch.from_df(path=wiki_data_path, train_df=read_wiki_articles(trn_path),\n",
    "                                  valid_df=read_wiki_articles(val_path), \n",
    "                                  classes=None, bs=bs, text_cols='texts')"
   ]
  },
  {
   "cell_type": "code",
   "execution_count": 9,
   "metadata": {},
   "outputs": [
    {
     "name": "stdout",
     "output_type": "stream",
     "text": [
      "Size of vocabulary: 60003\n",
      "First 20 words in vocab: ['xxunk', 'xxpad', 'xxbos', 'xxfld', 'xxmaj', 'xxup', 'xxrep', 'xxwrep', '.', ',', 'је', 'у', 'и', '\\n \\n ', '-', 'се', '\\n ', 'на', \"'\", '&']\n"
     ]
    }
   ],
   "source": [
    "itos = data_lm.vocab.itos\n",
    "print('Size of vocabulary:', len(itos))\n",
    "print('First 20 words in vocab:', itos[:20])"
   ]
  },
  {
   "cell_type": "code",
   "execution_count": 10,
   "metadata": {},
   "outputs": [
    {
     "data": {
      "text/plain": [
       "(169160, 533)"
      ]
     },
     "execution_count": 10,
     "metadata": {},
     "output_type": "execute_result"
    }
   ],
   "source": [
    "len(data_lm.train_ds), len(data_lm.valid_ds)"
   ]
  },
  {
   "cell_type": "code",
   "execution_count": 11,
   "metadata": {},
   "outputs": [
    {
     "data": {
      "text/html": [
       "<table border=\"1\" class=\"dataframe\">\n",
       "  <thead>\n",
       "    <tr style=\"text-align: right;\">\n",
       "      <th>idx</th>\n",
       "      <th>text</th>\n",
       "    </tr>\n",
       "  </thead>\n",
       "  <tbody>\n",
       "    <tr>\n",
       "      <td>0</td>\n",
       "      <td>факултета . xxmaj факултет послује под називом xxmaj правни факултет . xxmaj скраћен назив : xxup xxunk . xxmaj назив xxmaj факултета на енглеском језику је : - { &amp; ' xxmaj xxunk of xxmaj law &amp; ' } - . xxmaj седиште xxmaj факултета је на xxmaj новом xxmaj београду . xxmaj правни факултет има xxmaj дозволу за рад xxmaj министарства просвете xxmaj републике xxmaj србије број : 612</td>\n",
       "    </tr>\n",
       "    <tr>\n",
       "      <td>1</td>\n",
       "      <td>, а затим у xxmaj темишвару . xxmaj као стипендиста xxmaj матице српске завршио је студије у xxmaj бечу - правне науке и словенску филологију . xxmaj радио је као професор у xxmaj новосадској српској великој гимназији , почев од 1866 . године , пуне 33 године . у прво време је био и xxunk бележник бачке дијецезе . xxmaj био је старог xxunk , xxunk знања ; окупљао је</td>\n",
       "    </tr>\n",
       "    <tr>\n",
       "      <td>2</td>\n",
       "      <td>седамдесетих година 20 . века , али тек деценију касније и само у xxup сад , xxunk се термин &amp; ' - { elder xxunk } - &amp; ' , то јест , &amp; ' насиље над старим лицима &amp; ' . xxmaj насиље над старијим особама може бити физичко насиље , душевно насиље , сексуално насиље , економско насиље , xxunk и напуштање . \\n \\n  xxmaj синдром</td>\n",
       "    </tr>\n",
       "    <tr>\n",
       "      <td>3</td>\n",
       "      <td>, да сазива xxmaj скупштину , моћ да одобрава или ставља вето на законе које је донела xxmaj скупштина , да потписује xxunk , осим у случајевима издаје или xxunk . \\n \\n  xxmaj четрдесет и шест особа је до сада служило на положају гувернера xxmaj њујорка , од којих је четири имало xxunk мандате . xxmaj укупно је било 60 мандата ; званични списак наводи сваког гувернера само</td>\n",
       "    </tr>\n",
       "    <tr>\n",
       "      <td>4</td>\n",
       "      <td>школу учио је у родном селу и xxmaj пироту , гимназију у xxmaj пироту , xxmaj нишу и xxmaj београду . xxmaj на xxmaj филозофском факултету у xxmaj београду 1912 . уписује се на xxmaj групи за историју опште , xxunk књижевности и историју уметности , где завршава пет xxunk . у xxmaj првом светском рату учествује у xxmaj xxunk батаљону , познатом као 1300 каплара . у бици на</td>\n",
       "    </tr>\n",
       "  </tbody>\n",
       "</table>"
      ],
      "text/plain": [
       "<IPython.core.display.HTML object>"
      ]
     },
     "metadata": {},
     "output_type": "display_data"
    }
   ],
   "source": [
    "data_lm.show_batch()"
   ]
  },
  {
   "cell_type": "code",
   "execution_count": 12,
   "metadata": {},
   "outputs": [],
   "source": [
    "# save databunch\n",
    "data_lm.save('tmp_lm')"
   ]
  },
  {
   "cell_type": "code",
   "execution_count": 13,
   "metadata": {},
   "outputs": [],
   "source": [
    "# load databunch\n",
    "data_lm = load_data(wiki_data_path, 'tmp_lm', bs=bs)"
   ]
  },
  {
   "cell_type": "markdown",
   "metadata": {},
   "source": [
    "### Create Learner and train Language Model"
   ]
  },
  {
   "cell_type": "code",
   "execution_count": 14,
   "metadata": {},
   "outputs": [
    {
     "name": "stdout",
     "output_type": "stream",
     "text": [
      "Unknown tokens 56282, first 100: ['xxfld', 'је', 'у', 'и', 'се', 'на', 'су', 'да', 'од', 'за', 'године', 'са', 'а', 'из', 'као', 'који', 'до', '„', 'био', 'по', 'која', 'или', 'што', 'које', 'становника', 'према', 'али', 'налази', 'о', 'није', 'након', 'била', 'то', 'код', 'би', 'не', 'када', 'око', 'под', 'током', 'било', 'има', 'због', 'година', 'све', 'први', 'где', 'још', 'га', 'само', 'док', 'више', 'између', 'може', 'тако', 'град', 'један', 'после', 'износи', 'време', 'od', 'такође', 'општина', 'два', 'како', 'били', 'с', 'три', 'ће', 'он', 'број', 'рата', 'део', 'па', 'века', 'касније', 'те', 'против', 'му', 'тога', 'дана', 'насеље', 'метара', 'своје', 'стране', 'неколико', 'становништва', 'јер', 'kao', 'две', 'већ', 'пре', 'преко', 'града', 'данас', 'србије', 'тада', 'општини', 'ово', 'други']\n"
     ]
    }
   ],
   "source": [
    "# create learner for training on wiki from scratch\n",
    "learner = language_model_learner(data=data_lm, arch=AWD_LSTM, drop_mult=0.9)"
   ]
  },
  {
   "cell_type": "code",
   "execution_count": 15,
   "metadata": {},
   "outputs": [],
   "source": [
    "# change Adam default params\n",
    "learner.opt_func = partial(optim.Adam, betas=(0.8, 0.99))"
   ]
  },
  {
   "cell_type": "code",
   "execution_count": 16,
   "metadata": {},
   "outputs": [
    {
     "data": {
      "text/plain": [
       "[<function fastai.metrics.accuracy(input: torch.Tensor, targs: torch.Tensor) -> <function NewType.<locals>.new_type at 0x7f7756b3bb70>>]"
      ]
     },
     "execution_count": 16,
     "metadata": {},
     "output_type": "execute_result"
    }
   ],
   "source": [
    "learner.metrics"
   ]
  },
  {
   "cell_type": "code",
   "execution_count": 17,
   "metadata": {},
   "outputs": [],
   "source": [
    "# add save callback\n",
    "learner.callback_fns += [partial(SaveModelCallback, every='epoch', name='lm'),\n",
    "                         partial(CSVLogger, filename=f\"{learner.model_dir}/lm-history\")]"
   ]
  },
  {
   "cell_type": "code",
   "execution_count": 18,
   "metadata": {},
   "outputs": [],
   "source": [
    "# unfreeze all layers\n",
    "learner.unfreeze()"
   ]
  },
  {
   "cell_type": "code",
   "execution_count": 19,
   "metadata": {},
   "outputs": [
    {
     "data": {
      "text/html": [],
      "text/plain": [
       "<IPython.core.display.HTML object>"
      ]
     },
     "metadata": {},
     "output_type": "display_data"
    },
    {
     "name": "stdout",
     "output_type": "stream",
     "text": [
      "LR Finder is complete, type {learner_name}.recorder.plot() to see the graph.\n"
     ]
    }
   ],
   "source": [
    "learner.lr_find()"
   ]
  },
  {
   "cell_type": "code",
   "execution_count": 20,
   "metadata": {},
   "outputs": [
    {
     "data": {
      "image/png": "[encoded data removed]",
      "text/plain": [
       "<Figure size 432x288 with 1 Axes>"
      ]
     },
     "metadata": {
      "needs_background": "light"
     },
     "output_type": "display_data"
    }
   ],
   "source": [
    "learner.recorder.plot(skip_end=15)"
   ]
  },
  {
   "cell_type": "code",
   "execution_count": 21,
   "metadata": {},
   "outputs": [],
   "source": [
    "# define non-default momentums\n",
    "moms=(0.8,0.7)"
   ]
  },
  {
   "cell_type": "code",
   "execution_count": 22,
   "metadata": {},
   "outputs": [
    {
     "data": {
      "text/html": [
       "Total time: 34:24:16 <p><table border=\"1\" class=\"dataframe\">\n",
       "  <thead>\n",
       "    <tr style=\"text-align: left;\">\n",
       "      <th>epoch</th>\n",
       "      <th>train_loss</th>\n",
       "      <th>valid_loss</th>\n",
       "      <th>accuracy</th>\n",
       "      <th>time</th>\n",
       "    </tr>\n",
       "  </thead>\n",
       "  <tbody>\n",
       "    <tr>\n",
       "      <td>1</td>\n",
       "      <td>4.453520</td>\n",
       "      <td>4.456637</td>\n",
       "      <td>0.392037</td>\n",
       "      <td>11:28:04</td>\n",
       "    </tr>\n",
       "    <tr>\n",
       "      <td>2</td>\n",
       "      <td>4.420135</td>\n",
       "      <td>4.361069</td>\n",
       "      <td>0.407362</td>\n",
       "      <td>11:28:03</td>\n",
       "    </tr>\n",
       "    <tr>\n",
       "      <td>3</td>\n",
       "      <td>4.167873</td>\n",
       "      <td>4.297678</td>\n",
       "      <td>0.417120</td>\n",
       "      <td>11:28:05</td>\n",
       "    </tr>\n",
       "  </tbody>\n",
       "</table>"
      ],
      "text/plain": [
       "<IPython.core.display.HTML object>"
      ]
     },
     "metadata": {},
     "output_type": "display_data"
    }
   ],
   "source": [
    "learner.fit_one_cycle(3, 1e-3) #, moms=moms)"
   ]
  },
  {
   "cell_type": "code",
   "execution_count": 23,
   "metadata": {},
   "outputs": [],
   "source": [
    "# save model\n",
    "learner.save('sr-100-best')\n",
    "with open(wiki_data_path/'models/itos.pkl',\"wb\") as f:\n",
    "    pickle.dump(data_lm.vocab.itos, f)"
   ]
  },
  {
   "cell_type": "code",
   "execution_count": 50,
   "metadata": {},
   "outputs": [
    {
     "data": {
      "text/plain": [
       "'Ово је први модел језика на српском који је име написао у северозападном делу руске Републике'"
      ]
     },
     "execution_count": 50,
     "metadata": {},
     "output_type": "execute_result"
    }
   ],
   "source": [
    "learner.predict('Ово је први модел језика на српском који', n_words=10)"
   ]
  },
  {
   "cell_type": "code",
   "execution_count": 5,
   "metadata": {},
   "outputs": [
    {
     "name": "stdout",
     "output_type": "stream",
     "text": [
      "Unknown tokens 56282, first 100: ['xxfld', 'је', 'у', 'и', 'се', 'на', 'су', 'да', 'од', 'за', 'године', 'са', 'а', 'из', 'као', 'који', 'до', '„', 'био', 'по', 'која', 'или', 'што', 'које', 'становника', 'према', 'али', 'налази', 'о', 'није', 'након', 'била', 'то', 'код', 'би', 'не', 'када', 'око', 'под', 'током', 'било', 'има', 'због', 'година', 'све', 'први', 'где', 'још', 'га', 'само', 'док', 'више', 'између', 'може', 'тако', 'град', 'један', 'после', 'износи', 'време', 'od', 'такође', 'општина', 'два', 'како', 'били', 'с', 'три', 'ће', 'он', 'број', 'рата', 'део', 'па', 'века', 'касније', 'те', 'против', 'му', 'тога', 'дана', 'насеље', 'метара', 'своје', 'стране', 'неколико', 'становништва', 'јер', 'kao', 'две', 'већ', 'пре', 'преко', 'града', 'данас', 'србије', 'тада', 'општини', 'ово', 'други']\n"
     ]
    },
    {
     "data": {
      "text/plain": [
       "LanguageLearner(data=TextLMDataBunch;\n",
       "\n",
       "Train: LabelList (169160 items)\n",
       "x: LMTextList\n",
       "xxbos = xxmaj правни факултет xxmaj универзитета xxmaj мегатренд = \n",
       "  xxmaj правни факултет xxmaj универзитета xxmaj мегатренд \n",
       " \n",
       "  xxmaj правни факултет xxmaj универзитета xxmaj мегатренд у xxmaj београду је високошколска установа са xxunk правног лица у саставу xxmaj универзитета xxmaj мегатренд ( групација друштвено - хуманистичких наука ) са правима , обавезама и xxunk утврђеним xxmaj законом о високом образовању , xxmaj статутом xxmaj универзитета и xxmaj статутом xxmaj факултета . xxmaj факултет послује под називом xxmaj правни факултет . xxmaj скраћен назив : xxup xxunk . xxmaj назив xxmaj факултета на енглеском језику је : - { & ' xxmaj xxunk of xxmaj law & ' } - . xxmaj седиште xxmaj факултета је на xxmaj новом xxmaj београду . xxmaj правни факултет има xxmaj дозволу за рад xxmaj министарства просвете xxmaj републике xxmaj србије број : 612 - 00 - xxunk / 2016 - 06 , од xxunk . год . xxmaj статутом xxmaj универзитета , а у складу са xxmaj законом о високом образовању ( „ xxmaj службени гласник xxup рс “ број : 76 / 05 , 100 / 07 , 97 / 08 , 44 / 10 , 93 / 12 , 89 / 13 и 99 / 14 ) , уређена је организација , начин рада , управљање и руковођење xxmaj факултетом , као и органи xxmaj факултета . \n",
       " \n",
       "  xxmaj органи факултета . \n",
       "  xxmaj органи xxmaj факултета су : \n",
       " \n",
       "  xxmaj декан је орган xxunk факултета . xxmaj мандат декана траје три године , уз могућност поновног избора . xxmaj тренутни декан xxmaj правног факултета је xxunk . др xxmaj андрија xxmaj xxunk . \n",
       " \n",
       "  xxmaj факултет има на располагању библиотеку површине 18 м , као и читаоницу површине 52 м са 30 места . xxmaj библиотека се налази у згради xxmaj факултета , чији фонд научне литературе омогућава квалитетно обављање наставе и реализацију научних истраживања . xxmaj поред ове библиотеке , студенти могу да користе и другу библиотеку која се налази у зграду . \n",
       " \n",
       "  у оквиру xxmaj центра за истраживање права , јавна управе безбедност постоји xxunk библиотека научних извора литературе у којој има преко 500 извора научне грађе међународно признатих аутора на свим светским језицима . xxmaj поред тога xxmaj центар за проучавање права , јавне управе и безбедности превео је 7 књига из области јавне управе и управљања од најпознатијих светских аутора из ове области друштвеног живота . xxmaj све библиотеке су опремљена на xxunk начин и поседују сву алтернативну литературу из области правних , економских и безбедносних наука , као и из области наука о јавној управи . xxmaj факултет је xxunk на светску базу научних података xxup xxunk као и на више значајних часописа из области права , јавне управе , менаџмента / бизниса и безбедности . \n",
       " \n",
       "  xxmaj поред тога , xxmaj факултет има потписане споразуме са државним институтима из области права , јавне управе и безбедности ( xxmaj институт за упоредно право , xxmaj институт за међународну политику и привреду , xxmaj институт за xxunk истраживања ... ) у оквиру којих обезбеђује размену часописа и актуелне научне и стручне литературе . \n",
       " \n",
       "  у оквиру расположивих капацитета , технички системи се користе у образовним активностима xxmaj факултета : презентације , одржавање образовних курсева различитих нивоа из области права , јавне управе , безбедности , информатике и информационих система . \n",
       " ,xxbos \n",
       "  = xxmaj xxunk xxmaj блек = \n",
       "  xxmaj xxunk xxmaj блек \n",
       " \n",
       "  xxmaj xxunk xxmaj блек ( ; xxmaj питсбург , xxmaj пенсилванија 16 . децембар 1961 . године ) амерички је сценариста , филмски редитељ , продуцент и повремени глумац . xxmaj блек је написао сценарија за филмове као што су xxmaj xxunk оружје и његов наставак xxmaj xxunk оружје 2 , онда xxmaj одред против чудовишта , xxmaj последњи xxunk , xxmaj последњи акциони херој и xxmaj дуг пољубац за лаку ноћ . xxmaj као глумац , xxmaj блек је најпознатији по улози & ' xxmaj xxunk & ' , једног од чланова & ' xxmaj xxunk & ' ( xxmaj арнолд xxmaj шварценегер ) тима , у филму xxmaj предатор из 1987 . године . xxmaj има рођеног брата xxmaj терија xxmaj xxunk , који је такође сценариста . \n",
       " \n",
       "  xxmaj каријера . \n",
       "  xxmaj после година писања сценарија у xxmaj холивуду , где је средином деведесетих важио за xxunk xxunk , прешао је на режију . xxmaj xxunk деби направио је филмом xxmaj xxunk xxunk , xxunk xxunk 2005 . године . xxmaj блек је наставио каријеру филмом xxmaj ајрон xxmaj мен 3 2013 . г . , који је режирао и за који је написао сценарио , потом вестерн серијом xxmaj xxunk 2015 . и xxmaj добри момци ( 2016 ) . xxmaj режирао је и још један наставак & ' xxmaj предатор франшизе & ' , 2018 . године , за који је написао сценарио са својим дугогодишњим xxunk xxmaj xxunk xxmaj xxunk , као и филмску адаптацију о јунаку xxunk романа , xxmaj xxunk xxmaj xxunk . \n",
       " \n",
       "  xxmaj занимљивости . \n",
       "  xxmaj од почетка 2018 . године , његов филм & ' xxmaj ајрон xxmaj мен 3 & ' се налази на xxunk месту у свету , међу филмовима са највећом зарадом . \n",
       " \n",
       " ,xxbos \n",
       "  = xxmaj xxunk xxmaj хамер = \n",
       "  xxmaj xxunk xxmaj хамер \n",
       " \n",
       "  xxmaj xxunk xxmaj хамер ( ; рођен 28 . августа 1986 . у xxmaj санта xxmaj xxunk ) амерички је глумац . \n",
       " \n",
       "  xxmaj године 2010 . остварио је прву запажену улогу у филму & ' xxmaj друштвена мрежа & ' xxmaj дејвида xxmaj xxunk , у коме је играо близанце xxmaj xxunk . xxmaj годину дана касније појавио се у xxunk драми & ' xxmaj џеј xxmaj едгар & ' која му је донела номинацију xxmaj награду xxmaj удружења филмских глумаца за најбољег глумца у споредној улози . xxmaj године 2013 . добио је прву главну улогу у xxmaj xxunk xxunk xxunk & ' xxmaj усамљени ренџер & ' , али филм је доживео xxunk код критичара и публике . < br > \n",
       "  xxmaj након тога уследиле су улоге у филмовима & ' xxmaj шифра xxup xxunk . & ' ( 2015 ) , & ' xxmaj буђење нације & ' ( 2016 ) и & ' xxmaj ноћне звери & ' ( 2016 ) , који су наишли на претежно позитивне реакције . xxmaj године 2017 . xxmaj хамер се појавио у љубавној драми & ' xxmaj скривена љубав & ' , који му је донео номинације за бројне награде , xxunk xxmaj златни глобус за најбољег споредног глумца у играном филму . \n",
       " ,xxbos \n",
       "  = xxmaj xxunk коса = \n",
       "  xxmaj xxunk коса \n",
       " \n",
       "  xxmaj xxunk коса ( ) уска је пешчана превлака у источном делу xxmaj xxunk мореуза који спаја xxmaj xxunk са xxmaj црним морем . xxmaj административно припада xxmaj xxunk рејону xxmaj краснодарске покрајине xxmaj русије . xxmaj протеже се у правцу север-југ у дужини од 18 километара . xxmaj раздваја xxmaj xxunk пролаз од xxmaj xxunk и xxmaj xxunk залива на истоку . \n",
       " \n",
       "  xxmaj западна обала превлаке је знатно xxunk и xxunk у поређењу са источном која је доста нижа и xxunk . xxmaj нарочито је xxunk југоисточни део обале уз који се налазе бројна мања пешчана острва . у основи xxmaj xxunk косе налазе се xxunk xxunk са примесама гранита . \n",
       " \n",
       "  xxmaj име превлаке потиче од локалног назива за xxunk који су некада били бројни на том xxunk , а које су локални становници називали & ' „ xxunk ” & ' или „ морским xxunk ” . xxmaj на превлаци се налази једна од најзначајнијих руских морских лука , xxmaj порт xxmaj кавказ . \n",
       " \n",
       "  xxmaj године 1944 . превлака је са суседним xxmaj xxunk била повезана железничким мостом који није био дугог века пошто га је у зиму исте године лед потпуно уништио . xxmaj од 1955 . из луке xxmaj порт xxmaj кавказ се одвија редован xxunk саобраћај са суседним xxmaj xxunk . \n",
       " \n",
       " \n",
       " ,xxbos \n",
       "  = xxmaj xxunk ( војни хлеб ) = \n",
       "  xxmaj xxunk ( војни хлеб ) \n",
       " \n",
       "  xxmaj xxunk је врста војног хлеба xxunk од специфичне мешавине xxunk и белог брашна , која је могла је да траје дуго и даје снагу и xxunk српским војницима у борби . xxmaj реч xxunk је турског порекла и значи xxunk , а сваком српском војнику xxunk је једна xxunk од 800 грама хлеба дневно . xxmaj чињеница да је обавезни део униформе српског војника била xxunk за хлеб , сведочи о томе да је xxunk заиста био светиња за војника , коју је он мора све време рата да конзумира како би xxunk све недаће и оскудице у исхрани . \n",
       "  xxmaj историјат . \n",
       "  xxmaj производња xxunk — војног хлеба у xxmaj српској војсци почела је одмах после турско - српских ратова . xxmaj по свом саставу и начину припреме он је био здрав и xxunk састојак дневног оброка сваког војника . xxmaj на почетку рата xxmaj србија је морала да xxunk и цивиле и војску , која је имала одређено xxunk . xxmaj xxunk војника је било 800 грама хлеба , што је нпр . у xxmaj првом светском рату , обезбеђивао довољну xxunk вредност да војник може извршавати основне борбене задатке . \n",
       "  xxmaj xxunk кад кад год су то могућности xxunk , xxunk се комбиновао са јачим , xxunk xxunk ( пуним беланчевина које доприносе покретљивости ) , уз лук , xxunk и пасуљ ( који обилују xxunk и xxunk ) . xxmaj на почетку xxmaj првог светског рата уз xxunk су војницима xxunk и суве xxunk , пошто је у xxmaj горњем xxmaj милановцу остала велика количина шљива , чији су извоз спречили xxmaj аустроугари . xxmaj енергетска вредност сувог воћа је висока , а хлеб са сувим xxunk се и данас налази на xxunk сувог оброка војске у ванредним условима . \n",
       " \n",
       "  xxmaj његови састојци : 70 % xxunk брашна , 30 % белог брашна , со и вода . xxmaj ова xxunk xxunk је не са xxunk већ старим и xxunk , сувим – већ xxunk xxunk — xxunk . \n",
       "  xxmaj након што добро xxunk тесто xxunk више сати да xxunk , све док се на његовој површини не појаве xxunk ( око 12 часова ) . xxmaj потом се xxunk пече на температури од 250 0 , све док му xxunk не добије xxunk боју . \n",
       "  xxmaj xxunk вредности у 100 грама xxunk \n",
       "  xxmaj такође треба имати у виду да xxunk поред протеина , садржи и 26 % xxunk ( витамин xxup b1 ) , 24 % xxunk ( витамин xxup xxunk ) , 14 % xxunk ( витамин xxup b2 ) , 34 % гвожђа и 17 % калцијума – по чему он свакако представља изузетну xxunk супстанцу , за ратне услове . \n",
       " \n",
       "  xxmaj легенде о xxunk . \n",
       "  xxmaj постоји велики број прича које говоре о томе да је xxunk српским војницима био и xxunk . \n",
       " \n",
       "  о поштовању хлеба , xxunk , постоје многа сведочанства . у xxmaj музеју xxmaj понишавља у xxmaj пироту , чува се xxunk xxmaj алексе xxmaj xxunk , који је за време свог вишегодишњег ратовања чувао први xxunk и веровао да је захваљујући њему дошао жив из рата . \n",
       " \n",
       "  xxmaj тако је xxunk постао симбол снаге , вере и храбрости целог српског народа . \n",
       " \n",
       " \n",
       "y: LMLabelList\n",
       ",,,,\n",
       "Path: data/wiki/sr-100;\n",
       "\n",
       "Valid: LabelList (533 items)\n",
       "x: LMTextList\n",
       "xxbos = xxmaj xxunk xxmaj немањић = \n",
       "  xxmaj xxunk xxmaj немањић \n",
       " \n",
       "  xxmaj племић xxmaj xxunk xxmaj немањић , из xxmaj пљеваља , родоначелник је породице - братства xxmaj богуновића . \n",
       " \n",
       "  у xxmaj дубровачком архиву је забележено ( & ' xxmaj xxunk xxunk & ' ) да су ка овом српском приморском граду , xxmaj xxunk потомци кренули из крајева xxmaj xxunk xxmaj таре и xxmaj xxunk xxmaj таре . \n",
       " \n",
       "  xxmaj xxunk је био припадник највишег српског племства , а забележено је да му је син xxmaj лаврентије xxmaj немањић био на двору свог рођака xxmaj стефана x xxmaj уроша xxmaj душана xxmaj немањића ( 1308 - 1355 ) , краља xxmaj србије ( владао : 1331 - 1345 ) , а потом и цара ( владао : 1345 - 1355 ) , који нам је такође познат и као xxmaj стефан xxmaj урош xxup iv xxmaj душан & ' „ xxmaj силни ” & ' xxmaj немањић , са којим ће и доћи у xxmaj дубровник 1350 . године . \n",
       " \n",
       "  xxmaj поред xxmaj xxunk ( ) , имао је и синове xxmaj сергија и xxmaj xxunk . \n",
       " \n",
       " ,xxbos \n",
       "  = xxmaj xxunk xxunk ( pesma ) = \n",
       "  xxmaj xxunk xxunk ( pesma ) \n",
       " \n",
       "  xxmaj xxunk xxunk je pesma srpskog rok benda - { xxup yu } - grupa . xxmaj izdata je 1972 . godine i jedna je od najpoznatijih pesama benda . xxmaj nalazi se na xxup lp albumu na b strani zajedno sa pesmom & ' u xxunk xxunk kluba & ' , koja je na a strani . xxmaj tekst pesme je napisao xxmaj miodrag xxmaj xxunk xxmaj kostić , a xxunk xxmaj xxunk xxmaj xxunk . xxmaj velikim delom pesme xxunk xxunk xxunk , samo je na sredini pesme xxunk tekst koji sadrži dve xxunk . xxmaj takođe ona xxunk na xxunk xxunk između srpske i turske vojske na xxmaj kosovu polju , koja se xxunk 1389 . godine . \n",
       " \n",
       " ,xxbos \n",
       "  = xxmaj цветко xxmaj немањић = \n",
       "  xxmaj цветко xxmaj немањић \n",
       " \n",
       "  xxmaj цветко xxmaj немањић xxmaj богуновић , припадник је српске племићке породице xxmaj немањић . \n",
       " \n",
       "  xxmaj живео је у доба царства , а био је за живота xxunk и xxmaj града xxmaj дубровника , односно xxmaj дубровачке републике ( 1358 - 1808 ) . \n",
       "  xxmaj цветко xxmaj немањић је био xxmaj xxunk син . \n",
       "  xxmaj писана сведочанства дa су се у xxmaj xxunk xxmaj xxunk налазила xxunk xxmaj xxunk , xxmaj xxunk , xxmaj xxunk и xxmaj xxunk потичу из средине xxup xv века . \n",
       "  xxmaj xxunk xxmaj немањић , je родоначелник породице - братства xxmaj богуновића , који је раширио своју породичну лозу са xxmaj xxunk и на xxmaj град xxmaj дубровник са околином . \n",
       " \n",
       "  xxmaj познато је да је xxmaj xxunk имао више деце , од којих су посебно забележени xxmaj сергије , xxmaj лаврентије и xxmaj цветко , који су узели xxunk презиме xxmaj богуновић . \n",
       " \n",
       "  у xxmaj дубровачком архиву су забележене три информације , које потичу са простора xxmaj херцеговине , односно xxmaj попова поља , а везане су за породицу братство xxmaj богуновић , тј . xxmaj xxunk xxmaj богуновића ( или & ' xxmaj xxunk xxmaj xxunk & ' ) , из xxmaj попова поља ( & ' крај xxmaj требиња & ' ) , који је 8 . јануара 1371 . године , био заступник ( & ' xxunk & ' ) xxmaj xxunk xxmaj xxunk ( или & ' xxmaj xxunk xxmaj xxunk & ' ) xxunk xxmaj трнова у бановини xxmaj босни ( 1137 - 1377 ) , а у односу на захтев xxmaj дубровачке републике ( 1358 - 1808 ) . \n",
       " \n",
       " \n",
       " ,xxbos \n",
       "  = xxmaj xxunk ( xxmaj манитоба ) = \n",
       "  xxmaj xxunk ( xxmaj манитоба ) \n",
       " \n",
       "  xxmaj xxunk ( ) је варошица у јужном делу канадске провинције xxmaj манитоба и део је географско - статистичке регије xxmaj xxunk . xxmaj насеље се налази око 5 км источно од десне обале реке xxmaj ред , у географској регији xxmaj ред xxmaj ривер xxmaj вали на око 30 км јужно од административног центра провинције града xxmaj винипега . \n",
       " \n",
       "  xxmaj насеље је 1874 . основала група немачких xxmaj xxunk , а 1878 . у насеље је стигла и линија железнице . xxmaj насеље је тек 1969 . добило службени статус села , а 1993 . и статус варошице . \n",
       " \n",
       "  xxmaj према резултатима пописа становништва из 2011 . у вароши је живело xxunk становника у xxunk домаћинства , што је за чак 43,7 % више у односу на xxunk житеља колико је регистровано \n",
       "  приликом пописа 2006 . године . xxmaj број становника вароши се последњих година нагло повећава углавном досељавањем целих породица из оближњег xxmaj винипега . xxmaj поред енглеског најзаступљенији језик у вароши је немачки ( са око 600 говорника ) . \n",
       " \n",
       "  xxmaj привреда вароши и околине почива на пољопривредној производњи , а место је нарочито познато по бројним xxunk фармама . \n",
       " \n",
       " ,xxbos \n",
       "  = xxmaj xxunk nafte = \n",
       "  xxmaj xxunk nafte \n",
       " \n",
       "  xxmaj xxunk nafte su velika xxunk xxunk postrojenja u kojima se iz xxunk nafte različitim procesima izdvajaju xxunk derivati ( kao što su npr . xxunk gas , xxunk gorivo , xxunk , xxunk gorivo , xxunk ulja ... ) potrebni xxunk korisnicima .. \n",
       " \n",
       "  xxmaj xxunk pravo značenje xxunk u 19 . veku . kad je 1859 . godine xxmaj xxunk xxup e. xxup l. xxmaj xxunk u xxmaj xxunk xxunk prvu xxunk , što se uzima kao početak industrijske proizvodnje . xxmaj prva velika xxunk otvorena je u xxmaj xxunk , tačnije u xxmaj xxunk 1856 . u to se doba koristila isključivo za xxunk xxunk i masti za xxunk ( xxunk ) . xxmaj najveći svetski kompleks xxunk je - { „ xxmaj xxunk de xxmaj xxunk de xxmaj xxunk “ } - u xxmaj xxunk čiji kapacitet iznosi xxunk xxunk na dan . xxmaj tek xxunk xxunk xxunk industrije i sve većom xxunk za xxunk , počinju se xxunk tehnologije xxunk goriva iz nafte , xxunk tehnologije xxunk . \n",
       " \n",
       "  xxmaj sastav nafte . \n",
       "  xxmaj xxunk je po svom sastavu veoma xxunk smeša različitih xxunk , pa se njen sastav najbolje prikazuje xxunk xxunk xxunk elemenata od kojih je xxunk : ugljenik ( 83 - 87 % ) , vodonik ( 11 - 15 % ) , sumpor ( 0 - xxunk % ) , azot ( 0 - 2 % ) , kiseonik ( 0 - 2 % ) . \n",
       " \n",
       "  xxmaj priprema nafte za xxunk . \n",
       "  xxmaj xxunk je nastala iz ostataka biljaka i životinja koje su postojale pre nekoliko stotina miliona godina u vodi . xxmaj sam taj proces se xxunk u nekoliko faza : xxunk ostataka na dnu okeana koje je tokom vremena xxunk xxunk i xxunk , nastanak gasa i xxunk nafte xxunk delovanja xxunk xxunk i visokih temperatura . \n",
       " \n",
       "  xxmaj sam proces xxunk nafte počinje xxunk i to xxunk i xxunk , područja potencijalno bogato xxunk od strane naučnika i xxunk , ukoliko se utvrdi postojanje nafte , ( gasa ) koja se nalazi xxunk u xxunk xxunk između stena pod vrlo velikim pritiskom , xxunk se xxunk xxunk kroz xxunk slojeve xxunk , xxunk i stena iz koje se vrši xxunk iste te transport do xxunk za xxunk . xxmaj transport se može izvršiti na različite načine : xxunk , xxunk , xxunk putem , odnosno xxunk te xxunk što je ujedno i xxunk opcija . xxmaj velik problem prilikom xxunk i transporta je mogućnost xxunk nafte u okolinu . xxmaj nove tehnologije su xxunk xxunk xxunk kod xxunk , a to je xxunk manjim brojem xxunk . \n",
       " \n",
       "  xxmaj xxunk xxunk do xxunk sadrži vodu , soli , xxunk jedinjenja , kiseline i druge xxunk . xxmaj kako ovi elementi izazivaju xxunk i ostale negativne efekte na xxunk , xxunk se xxunk . xxmaj voda se uklanja na način da se s dna xxunk u kojem se nalazi xxunk , xxunk voda , jer se xxunk , pošto je xxunk od vode , xxunk na površini . xxmaj drugi način je dodavanje xxunk . xxmaj soli se xxunk dodavanjem visoko xxunk vode u tok nafte . xxmaj xxunk voda xxunk soli koji se xxunk na dnu . \n",
       " \n",
       "  xxmaj procesi koji se odvijaju u xxunk . \n",
       "  xxmaj xxunk . \n",
       "  xxmaj xxunk je prvi korak u postupku xxunk nafte . xxmaj svrha procesa je xxunk ( xxunk ) xxunk iz xxunk nafte u xxunk nafte koje se xxunk na njihovoj tački xxunk . xxmaj xxunk se odvija u velikim xxunk pod dejstvom xxunk pritiska . xxmaj ti xxunk sadrže veliki broj xxunk xxunk ( xxunk ) , gde se xxunk gasovi i tečnosti xxunk i posle toga se tečnost xxunk iz xxunk . xxmaj lakše materije poput xxunk i nafte se xxunk u gornjem delu xxunk , a teže materije se xxunk iz donjeg dela xxunk . \n",
       " \n",
       "  xxmaj xxunk . \n",
       "  xxmaj xxunk je sekundarni proces xxunk nafte kojim se xxunk xxunk xxunk . xxmaj proces se zasniva na xxunk reakciji xxunk s xxunk xxunk ( xxunk , xxunk ) . xxmaj xxunk je xxunk komponenta koja se koristi za proizvodnju xxunk . \n",
       " \n",
       "  xxmaj xxunk . \n",
       "  xxmaj xxunk je xxunk proces u xxunk nafte . xxmaj njime se povećava hemijska stabilnost xxunk xxunk . xxmaj vodonik za ovaj proces se dobija sa postrojenja xxunk xxunk . xxmaj faktori koji utiču na xxunk procesa su : temperatura , pritisak , udeo vodonika i xxunk brzina . \n",
       " \n",
       "  xxmaj xxunk . \n",
       "  xxmaj xxunk je proces koji se koristi ukoliko je potrebno povećati xxunk broj xxunk . xxmaj osim za xxunk xxunk koristi se i za pripremu xxunk za proces xxunk . xxmaj postupak se zasniva na promeni strukture molekula xxunk , a da pri tome xxunk masa ostaje xxunk . \n",
       " \n",
       "  xxmaj xxunk xxunk . \n",
       "  xxmaj ukoliko se želi povećati xxunk broj grupi xxunk xxunk procesom xxunk xxunk , koristi se xxunk xxunk . xxmaj pre njegove primene potrebno je xxunk xxunk xxunk xxunk jedinjenja i xxunk , jer su xxunk . xxmaj pritisak , xxunk i udeo vodonika su xxunk parametri . \n",
       " \n",
       "  xxmaj proces xxunk . \n",
       "  xxmaj koristi se u xxunk xxunk : xxunk , xxunk i xxunk goriva . xxmaj različite xxunk nafte se kombinuju u svrhu dobijanja xxunk proizvoda . xxmaj ovaj proces se još naziva xxunk , jer se xxunk xxunk sumpor prevodi u xxunk xxunk . xxmaj proces zahteva xxunk svih komponenti postupka , i primenu računarskih modela i xxunk . \n",
       " \n",
       "  xxmaj xxunk derivati . \n",
       "  xxmaj xxunk gas . \n",
       "  xxmaj xxunk gas je xxunk derivat nafte , sastoji se od smeše xxunk i xxunk . xxmaj kao takav mora se xxunk da bi se xxunk xxunk xxunk jedinjenja . xxmaj tako xxunk gas može ići na tržište . \n",
       " \n",
       "  xxmaj xxunk . \n",
       "  xxmaj xxunk se koristi kao xxunk gorivo u većini xxunk vozila . xxmaj proizvodi se u dve xxunk : xxunk xxunk koji i m a od 86 - 88 xxunk i super sa 95 - 100 xxunk . xxmaj xxunk broj je mera za xxunk svojstvo xxunk . xxmaj za povećanje xxunk broja dodaju se xxunk jedinjenja , xxup xxunk , xxup xxunk , odnosno xxunk olovo i xxunk olovo . \n",
       " \n",
       "  xxmaj xxunk gorivo . \n",
       "  xxmaj za proizvodnju xxunk goriva koristi se xxunk i delovi xxunk xxunk ulja , ti elementi se xxunk na xxunk do xxunk - { c } - . xxmaj osim xxunk xxunk važan je i xxunk udeo ukupnog sumpora koji ne sme biti veći od 1,0 % zbog xxunk delovanja . xxmaj xxunk broj i xxunk indeks su mere za sposobnost xxunk xxunk goriva . \n",
       " \n",
       "  xxmaj xxunk gorivo . \n",
       "  xxmaj xxunk gorivo je smeša xxunk xxunk i xxunk , odnosno jedinjenja nafte koja se xxunk na xxunk do xxunk - { c } - . xxmaj kako tu vrstu goriva koriste xxunk xxunk koji xxunk na velikim xxunk gde xxunk izrazito niske temperature , potrebno je xxunk da su temperature xxunk ispod xxunk - { c } - . \n",
       " \n",
       "  xxmaj xxunk ulja . \n",
       "  xxmaj ulja se koriste u različite svrhe , osnovna i m je funkcija xxunk motora , xxunk goriva , hlađenje i xxunk motora , kao i sprečavanje xxunk . xxmaj indeks xxunk i m je vrlo visok zbog specifičnih uslova rada , ujedno indeks xxunk je i mera po kojoj se ulja xxunk . \n",
       " \n",
       "  xxmaj xxunk . \n",
       "  xxmaj xxunk je derivat nafte koji se dobija xxunk xxunk ostataka nafte . xxmaj važna svojstva su xxunk , xxunk , temperatura xxunk , xxunk . xxmaj svojstva xxunk zavise od xxunk xxunk xxunk u xxunk . xxmaj svoju upotrebu je pronašao u xxunk i industriji . \n",
       " \n",
       "  xxmaj xxunk . \n",
       "  xxmaj xxunk se dobija iz xxunk xxunk , što je sadržaj ulja manji to je xxunk xxunk . xxmaj primenjuje se u xxunk industriji , proizvodnji xxunk , xxunk , it d . \n",
       " \n",
       "  xxmaj xxunk ulje . \n",
       "  xxmaj za proizvodnju xxunk ulja xxunk se xxunk pri xxunk nafte . xxmaj ono mora da xxunk xxunk xxunk i količine sumpora . xxmaj koristi se kao gorivo u xxunk . \n",
       " \n",
       " \n",
       " \n",
       " \n",
       "y: LMLabelList\n",
       ",,,,\n",
       "Path: data/wiki/sr-100;\n",
       "\n",
       "Test: None, model=SequentialRNN(\n",
       "  (0): AWD_LSTM(\n",
       "    (encoder): Embedding(60003, 400, padding_idx=1)\n",
       "    (encoder_dp): EmbeddingDropout(\n",
       "      (emb): Embedding(60003, 400, padding_idx=1)\n",
       "    )\n",
       "    (rnns): ModuleList(\n",
       "      (0): WeightDropout(\n",
       "        (module): LSTM(400, 1150, batch_first=True)\n",
       "      )\n",
       "      (1): WeightDropout(\n",
       "        (module): LSTM(1150, 1150, batch_first=True)\n",
       "      )\n",
       "      (2): WeightDropout(\n",
       "        (module): LSTM(1150, 400, batch_first=True)\n",
       "      )\n",
       "    )\n",
       "    (input_dp): RNNDropout()\n",
       "    (hidden_dps): ModuleList(\n",
       "      (0): RNNDropout()\n",
       "      (1): RNNDropout()\n",
       "      (2): RNNDropout()\n",
       "    )\n",
       "  )\n",
       "  (1): LinearDecoder(\n",
       "    (decoder): Linear(in_features=400, out_features=60003, bias=True)\n",
       "    (output_dp): RNNDropout()\n",
       "  )\n",
       "), opt_func=functools.partial(<class 'torch.optim.adam.Adam'>, betas=(0.9, 0.99)), loss_func=FlattenedLoss of CrossEntropyLoss(), metrics=[<function accuracy at 0x7fe1443c17b8>], true_wd=True, bn_wd=True, wd=0.01, train_bn=True, path=PosixPath('data/wiki/sr-100'), model_dir='models', callback_fns=[functools.partial(<class 'fastai.basic_train.Recorder'>, add_time=True)], callbacks=[RNNTrainer\n",
       "learn: LanguageLearner(data=TextLMDataBunch;\n",
       "\n",
       "Train: LabelList (169160 items)\n",
       "x: LMTextList\n",
       "xxbos = xxmaj правни факултет xxmaj универзитета xxmaj мегатренд = \n",
       "  xxmaj правни факултет xxmaj универзитета xxmaj мегатренд \n",
       " \n",
       "  xxmaj правни факултет xxmaj универзитета xxmaj мегатренд у xxmaj београду је високошколска установа са xxunk правног лица у саставу xxmaj универзитета xxmaj мегатренд ( групација друштвено - хуманистичких наука ) са правима , обавезама и xxunk утврђеним xxmaj законом о високом образовању , xxmaj статутом xxmaj универзитета и xxmaj статутом xxmaj факултета . xxmaj факултет послује под називом xxmaj правни факултет . xxmaj скраћен назив : xxup xxunk . xxmaj назив xxmaj факултета на енглеском језику је : - { & ' xxmaj xxunk of xxmaj law & ' } - . xxmaj седиште xxmaj факултета је на xxmaj новом xxmaj београду . xxmaj правни факултет има xxmaj дозволу за рад xxmaj министарства просвете xxmaj републике xxmaj србије број : 612 - 00 - xxunk / 2016 - 06 , од xxunk . год . xxmaj статутом xxmaj универзитета , а у складу са xxmaj законом о високом образовању ( „ xxmaj службени гласник xxup рс “ број : 76 / 05 , 100 / 07 , 97 / 08 , 44 / 10 , 93 / 12 , 89 / 13 и 99 / 14 ) , уређена је организација , начин рада , управљање и руковођење xxmaj факултетом , као и органи xxmaj факултета . \n",
       " \n",
       "  xxmaj органи факултета . \n",
       "  xxmaj органи xxmaj факултета су : \n",
       " \n",
       "  xxmaj декан је орган xxunk факултета . xxmaj мандат декана траје три године , уз могућност поновног избора . xxmaj тренутни декан xxmaj правног факултета је xxunk . др xxmaj андрија xxmaj xxunk . \n",
       " \n",
       "  xxmaj факултет има на располагању библиотеку површине 18 м , као и читаоницу површине 52 м са 30 места . xxmaj библиотека се налази у згради xxmaj факултета , чији фонд научне литературе омогућава квалитетно обављање наставе и реализацију научних истраживања . xxmaj поред ове библиотеке , студенти могу да користе и другу библиотеку која се налази у зграду . \n",
       " \n",
       "  у оквиру xxmaj центра за истраживање права , јавна управе безбедност постоји xxunk библиотека научних извора литературе у којој има преко 500 извора научне грађе међународно признатих аутора на свим светским језицима . xxmaj поред тога xxmaj центар за проучавање права , јавне управе и безбедности превео је 7 књига из области јавне управе и управљања од најпознатијих светских аутора из ове области друштвеног живота . xxmaj све библиотеке су опремљена на xxunk начин и поседују сву алтернативну литературу из области правних , економских и безбедносних наука , као и из области наука о јавној управи . xxmaj факултет је xxunk на светску базу научних података xxup xxunk као и на више значајних часописа из области права , јавне управе , менаџмента / бизниса и безбедности . \n",
       " \n",
       "  xxmaj поред тога , xxmaj факултет има потписане споразуме са државним институтима из области права , јавне управе и безбедности ( xxmaj институт за упоредно право , xxmaj институт за међународну политику и привреду , xxmaj институт за xxunk истраживања ... ) у оквиру којих обезбеђује размену часописа и актуелне научне и стручне литературе . \n",
       " \n",
       "  у оквиру расположивих капацитета , технички системи се користе у образовним активностима xxmaj факултета : презентације , одржавање образовних курсева различитих нивоа из области права , јавне управе , безбедности , информатике и информационих система . \n",
       " ,xxbos \n",
       "  = xxmaj xxunk xxmaj блек = \n",
       "  xxmaj xxunk xxmaj блек \n",
       " \n",
       "  xxmaj xxunk xxmaj блек ( ; xxmaj питсбург , xxmaj пенсилванија 16 . децембар 1961 . године ) амерички је сценариста , филмски редитељ , продуцент и повремени глумац . xxmaj блек је написао сценарија за филмове као што су xxmaj xxunk оружје и његов наставак xxmaj xxunk оружје 2 , онда xxmaj одред против чудовишта , xxmaj последњи xxunk , xxmaj последњи акциони херој и xxmaj дуг пољубац за лаку ноћ . xxmaj као глумац , xxmaj блек је најпознатији по улози & ' xxmaj xxunk & ' , једног од чланова & ' xxmaj xxunk & ' ( xxmaj арнолд xxmaj шварценегер ) тима , у филму xxmaj предатор из 1987 . године . xxmaj има рођеног брата xxmaj терија xxmaj xxunk , који је такође сценариста . \n",
       " \n",
       "  xxmaj каријера . \n",
       "  xxmaj после година писања сценарија у xxmaj холивуду , где је средином деведесетих важио за xxunk xxunk , прешао је на режију . xxmaj xxunk деби направио је филмом xxmaj xxunk xxunk , xxunk xxunk 2005 . године . xxmaj блек је наставио каријеру филмом xxmaj ајрон xxmaj мен 3 2013 . г . , који је режирао и за који је написао сценарио , потом вестерн серијом xxmaj xxunk 2015 . и xxmaj добри момци ( 2016 ) . xxmaj режирао је и још један наставак & ' xxmaj предатор франшизе & ' , 2018 . године , за који је написао сценарио са својим дугогодишњим xxunk xxmaj xxunk xxmaj xxunk , као и филмску адаптацију о јунаку xxunk романа , xxmaj xxunk xxmaj xxunk . \n",
       " \n",
       "  xxmaj занимљивости . \n",
       "  xxmaj од почетка 2018 . године , његов филм & ' xxmaj ајрон xxmaj мен 3 & ' се налази на xxunk месту у свету , међу филмовима са највећом зарадом . \n",
       " \n",
       " ,xxbos \n",
       "  = xxmaj xxunk xxmaj хамер = \n",
       "  xxmaj xxunk xxmaj хамер \n",
       " \n",
       "  xxmaj xxunk xxmaj хамер ( ; рођен 28 . августа 1986 . у xxmaj санта xxmaj xxunk ) амерички је глумац . \n",
       " \n",
       "  xxmaj године 2010 . остварио је прву запажену улогу у филму & ' xxmaj друштвена мрежа & ' xxmaj дејвида xxmaj xxunk , у коме је играо близанце xxmaj xxunk . xxmaj годину дана касније појавио се у xxunk драми & ' xxmaj џеј xxmaj едгар & ' која му је донела номинацију xxmaj награду xxmaj удружења филмских глумаца за најбољег глумца у споредној улози . xxmaj године 2013 . добио је прву главну улогу у xxmaj xxunk xxunk xxunk & ' xxmaj усамљени ренџер & ' , али филм је доживео xxunk код критичара и публике . < br > \n",
       "  xxmaj након тога уследиле су улоге у филмовима & ' xxmaj шифра xxup xxunk . & ' ( 2015 ) , & ' xxmaj буђење нације & ' ( 2016 ) и & ' xxmaj ноћне звери & ' ( 2016 ) , који су наишли на претежно позитивне реакције . xxmaj године 2017 . xxmaj хамер се појавио у љубавној драми & ' xxmaj скривена љубав & ' , који му је донео номинације за бројне награде , xxunk xxmaj златни глобус за најбољег споредног глумца у играном филму . \n",
       " ,xxbos \n",
       "  = xxmaj xxunk коса = \n",
       "  xxmaj xxunk коса \n",
       " \n",
       "  xxmaj xxunk коса ( ) уска је пешчана превлака у источном делу xxmaj xxunk мореуза који спаја xxmaj xxunk са xxmaj црним морем . xxmaj административно припада xxmaj xxunk рејону xxmaj краснодарске покрајине xxmaj русије . xxmaj протеже се у правцу север-југ у дужини од 18 километара . xxmaj раздваја xxmaj xxunk пролаз од xxmaj xxunk и xxmaj xxunk залива на истоку . \n",
       " \n",
       "  xxmaj западна обала превлаке је знатно xxunk и xxunk у поређењу са источном која је доста нижа и xxunk . xxmaj нарочито је xxunk југоисточни део обале уз који се налазе бројна мања пешчана острва . у основи xxmaj xxunk косе налазе се xxunk xxunk са примесама гранита . \n",
       " \n",
       "  xxmaj име превлаке потиче од локалног назива за xxunk који су некада били бројни на том xxunk , а које су локални становници називали & ' „ xxunk ” & ' или „ морским xxunk ” . xxmaj на превлаци се налази једна од најзначајнијих руских морских лука , xxmaj порт xxmaj кавказ . \n",
       " \n",
       "  xxmaj године 1944 . превлака је са суседним xxmaj xxunk била повезана железничким мостом који није био дугог века пошто га је у зиму исте године лед потпуно уништио . xxmaj од 1955 . из луке xxmaj порт xxmaj кавказ се одвија редован xxunk саобраћај са суседним xxmaj xxunk . \n",
       " \n",
       " \n",
       " ,xxbos \n",
       "  = xxmaj xxunk ( војни хлеб ) = \n",
       "  xxmaj xxunk ( војни хлеб ) \n",
       " \n",
       "  xxmaj xxunk је врста војног хлеба xxunk од специфичне мешавине xxunk и белог брашна , која је могла је да траје дуго и даје снагу и xxunk српским војницима у борби . xxmaj реч xxunk је турског порекла и значи xxunk , а сваком српском војнику xxunk је једна xxunk од 800 грама хлеба дневно . xxmaj чињеница да је обавезни део униформе српског војника била xxunk за хлеб , сведочи о томе да је xxunk заиста био светиња за војника , коју је он мора све време рата да конзумира како би xxunk све недаће и оскудице у исхрани . \n",
       "  xxmaj историјат . \n",
       "  xxmaj производња xxunk — војног хлеба у xxmaj српској војсци почела је одмах после турско - српских ратова . xxmaj по свом саставу и начину припреме он је био здрав и xxunk састојак дневног оброка сваког војника . xxmaj на почетку рата xxmaj србија је морала да xxunk и цивиле и војску , која је имала одређено xxunk . xxmaj xxunk војника је било 800 грама хлеба , што је нпр . у xxmaj првом светском рату , обезбеђивао довољну xxunk вредност да војник може извршавати основне борбене задатке . \n",
       "  xxmaj xxunk кад кад год су то могућности xxunk , xxunk се комбиновао са јачим , xxunk xxunk ( пуним беланчевина које доприносе покретљивости ) , уз лук , xxunk и пасуљ ( који обилују xxunk и xxunk ) . xxmaj на почетку xxmaj првог светског рата уз xxunk су војницима xxunk и суве xxunk , пошто је у xxmaj горњем xxmaj милановцу остала велика количина шљива , чији су извоз спречили xxmaj аустроугари . xxmaj енергетска вредност сувог воћа је висока , а хлеб са сувим xxunk се и данас налази на xxunk сувог оброка војске у ванредним условима . \n",
       " \n",
       "  xxmaj његови састојци : 70 % xxunk брашна , 30 % белог брашна , со и вода . xxmaj ова xxunk xxunk је не са xxunk већ старим и xxunk , сувим – већ xxunk xxunk — xxunk . \n",
       "  xxmaj након што добро xxunk тесто xxunk више сати да xxunk , све док се на његовој површини не појаве xxunk ( око 12 часова ) . xxmaj потом се xxunk пече на температури од 250 0 , све док му xxunk не добије xxunk боју . \n",
       "  xxmaj xxunk вредности у 100 грама xxunk \n",
       "  xxmaj такође треба имати у виду да xxunk поред протеина , садржи и 26 % xxunk ( витамин xxup b1 ) , 24 % xxunk ( витамин xxup xxunk ) , 14 % xxunk ( витамин xxup b2 ) , 34 % гвожђа и 17 % калцијума – по чему он свакако представља изузетну xxunk супстанцу , за ратне услове . \n",
       " \n",
       "  xxmaj легенде о xxunk . \n",
       "  xxmaj постоји велики број прича које говоре о томе да је xxunk српским војницима био и xxunk . \n",
       " \n",
       "  о поштовању хлеба , xxunk , постоје многа сведочанства . у xxmaj музеју xxmaj понишавља у xxmaj пироту , чува се xxunk xxmaj алексе xxmaj xxunk , који је за време свог вишегодишњег ратовања чувао први xxunk и веровао да је захваљујући њему дошао жив из рата . \n",
       " \n",
       "  xxmaj тако је xxunk постао симбол снаге , вере и храбрости целог српског народа . \n",
       " \n",
       " \n",
       "y: LMLabelList\n",
       ",,,,\n",
       "Path: data/wiki/sr-100;\n",
       "\n",
       "Valid: LabelList (533 items)\n",
       "x: LMTextList\n",
       "xxbos = xxmaj xxunk xxmaj немањић = \n",
       "  xxmaj xxunk xxmaj немањић \n",
       " \n",
       "  xxmaj племић xxmaj xxunk xxmaj немањић , из xxmaj пљеваља , родоначелник је породице - братства xxmaj богуновића . \n",
       " \n",
       "  у xxmaj дубровачком архиву је забележено ( & ' xxmaj xxunk xxunk & ' ) да су ка овом српском приморском граду , xxmaj xxunk потомци кренули из крајева xxmaj xxunk xxmaj таре и xxmaj xxunk xxmaj таре . \n",
       " \n",
       "  xxmaj xxunk је био припадник највишег српског племства , а забележено је да му је син xxmaj лаврентије xxmaj немањић био на двору свог рођака xxmaj стефана x xxmaj уроша xxmaj душана xxmaj немањића ( 1308 - 1355 ) , краља xxmaj србије ( владао : 1331 - 1345 ) , а потом и цара ( владао : 1345 - 1355 ) , који нам је такође познат и као xxmaj стефан xxmaj урош xxup iv xxmaj душан & ' „ xxmaj силни ” & ' xxmaj немањић , са којим ће и доћи у xxmaj дубровник 1350 . године . \n",
       " \n",
       "  xxmaj поред xxmaj xxunk ( ) , имао је и синове xxmaj сергија и xxmaj xxunk . \n",
       " \n",
       " ,xxbos \n",
       "  = xxmaj xxunk xxunk ( pesma ) = \n",
       "  xxmaj xxunk xxunk ( pesma ) \n",
       " \n",
       "  xxmaj xxunk xxunk je pesma srpskog rok benda - { xxup yu } - grupa . xxmaj izdata je 1972 . godine i jedna je od najpoznatijih pesama benda . xxmaj nalazi se na xxup lp albumu na b strani zajedno sa pesmom & ' u xxunk xxunk kluba & ' , koja je na a strani . xxmaj tekst pesme je napisao xxmaj miodrag xxmaj xxunk xxmaj kostić , a xxunk xxmaj xxunk xxmaj xxunk . xxmaj velikim delom pesme xxunk xxunk xxunk , samo je na sredini pesme xxunk tekst koji sadrži dve xxunk . xxmaj takođe ona xxunk na xxunk xxunk između srpske i turske vojske na xxmaj kosovu polju , koja se xxunk 1389 . godine . \n",
       " \n",
       " ,xxbos \n",
       "  = xxmaj цветко xxmaj немањић = \n",
       "  xxmaj цветко xxmaj немањић \n",
       " \n",
       "  xxmaj цветко xxmaj немањић xxmaj богуновић , припадник је српске племићке породице xxmaj немањић . \n",
       " \n",
       "  xxmaj живео је у доба царства , а био је за живота xxunk и xxmaj града xxmaj дубровника , односно xxmaj дубровачке републике ( 1358 - 1808 ) . \n",
       "  xxmaj цветко xxmaj немањић је био xxmaj xxunk син . \n",
       "  xxmaj писана сведочанства дa су се у xxmaj xxunk xxmaj xxunk налазила xxunk xxmaj xxunk , xxmaj xxunk , xxmaj xxunk и xxmaj xxunk потичу из средине xxup xv века . \n",
       "  xxmaj xxunk xxmaj немањић , je родоначелник породице - братства xxmaj богуновића , који је раширио своју породичну лозу са xxmaj xxunk и на xxmaj град xxmaj дубровник са околином . \n",
       " \n",
       "  xxmaj познато је да је xxmaj xxunk имао више деце , од којих су посебно забележени xxmaj сергије , xxmaj лаврентије и xxmaj цветко , који су узели xxunk презиме xxmaj богуновић . \n",
       " \n",
       "  у xxmaj дубровачком архиву су забележене три информације , које потичу са простора xxmaj херцеговине , односно xxmaj попова поља , а везане су за породицу братство xxmaj богуновић , тј . xxmaj xxunk xxmaj богуновића ( или & ' xxmaj xxunk xxmaj xxunk & ' ) , из xxmaj попова поља ( & ' крај xxmaj требиња & ' ) , који је 8 . јануара 1371 . године , био заступник ( & ' xxunk & ' ) xxmaj xxunk xxmaj xxunk ( или & ' xxmaj xxunk xxmaj xxunk & ' ) xxunk xxmaj трнова у бановини xxmaj босни ( 1137 - 1377 ) , а у односу на захтев xxmaj дубровачке републике ( 1358 - 1808 ) . \n",
       " \n",
       " \n",
       " ,xxbos \n",
       "  = xxmaj xxunk ( xxmaj манитоба ) = \n",
       "  xxmaj xxunk ( xxmaj манитоба ) \n",
       " \n",
       "  xxmaj xxunk ( ) је варошица у јужном делу канадске провинције xxmaj манитоба и део је географско - статистичке регије xxmaj xxunk . xxmaj насеље се налази око 5 км источно од десне обале реке xxmaj ред , у географској регији xxmaj ред xxmaj ривер xxmaj вали на око 30 км јужно од административног центра провинције града xxmaj винипега . \n",
       " \n",
       "  xxmaj насеље је 1874 . основала група немачких xxmaj xxunk , а 1878 . у насеље је стигла и линија железнице . xxmaj насеље је тек 1969 . добило службени статус села , а 1993 . и статус варошице . \n",
       " \n",
       "  xxmaj према резултатима пописа становништва из 2011 . у вароши је живело xxunk становника у xxunk домаћинства , што је за чак 43,7 % више у односу на xxunk житеља колико је регистровано \n",
       "  приликом пописа 2006 . године . xxmaj број становника вароши се последњих година нагло повећава углавном досељавањем целих породица из оближњег xxmaj винипега . xxmaj поред енглеског најзаступљенији језик у вароши је немачки ( са око 600 говорника ) . \n",
       " \n",
       "  xxmaj привреда вароши и околине почива на пољопривредној производњи , а место је нарочито познато по бројним xxunk фармама . \n",
       " \n",
       " ,xxbos \n",
       "  = xxmaj xxunk nafte = \n",
       "  xxmaj xxunk nafte \n",
       " \n",
       "  xxmaj xxunk nafte su velika xxunk xxunk postrojenja u kojima se iz xxunk nafte različitim procesima izdvajaju xxunk derivati ( kao što su npr . xxunk gas , xxunk gorivo , xxunk , xxunk gorivo , xxunk ulja ... ) potrebni xxunk korisnicima .. \n",
       " \n",
       "  xxmaj xxunk pravo značenje xxunk u 19 . veku . kad je 1859 . godine xxmaj xxunk xxup e. xxup l. xxmaj xxunk u xxmaj xxunk xxunk prvu xxunk , što se uzima kao početak industrijske proizvodnje . xxmaj prva velika xxunk otvorena je u xxmaj xxunk , tačnije u xxmaj xxunk 1856 . u to se doba koristila isključivo za xxunk xxunk i masti za xxunk ( xxunk ) . xxmaj najveći svetski kompleks xxunk je - { „ xxmaj xxunk de xxmaj xxunk de xxmaj xxunk “ } - u xxmaj xxunk čiji kapacitet iznosi xxunk xxunk na dan . xxmaj tek xxunk xxunk xxunk industrije i sve većom xxunk za xxunk , počinju se xxunk tehnologije xxunk goriva iz nafte , xxunk tehnologije xxunk . \n",
       " \n",
       "  xxmaj sastav nafte . \n",
       "  xxmaj xxunk je po svom sastavu veoma xxunk smeša različitih xxunk , pa se njen sastav najbolje prikazuje xxunk xxunk xxunk elemenata od kojih je xxunk : ugljenik ( 83 - 87 % ) , vodonik ( 11 - 15 % ) , sumpor ( 0 - xxunk % ) , azot ( 0 - 2 % ) , kiseonik ( 0 - 2 % ) . \n",
       " \n",
       "  xxmaj priprema nafte za xxunk . \n",
       "  xxmaj xxunk je nastala iz ostataka biljaka i životinja koje su postojale pre nekoliko stotina miliona godina u vodi . xxmaj sam taj proces se xxunk u nekoliko faza : xxunk ostataka na dnu okeana koje je tokom vremena xxunk xxunk i xxunk , nastanak gasa i xxunk nafte xxunk delovanja xxunk xxunk i visokih temperatura . \n",
       " \n",
       "  xxmaj sam proces xxunk nafte počinje xxunk i to xxunk i xxunk , područja potencijalno bogato xxunk od strane naučnika i xxunk , ukoliko se utvrdi postojanje nafte , ( gasa ) koja se nalazi xxunk u xxunk xxunk između stena pod vrlo velikim pritiskom , xxunk se xxunk xxunk kroz xxunk slojeve xxunk , xxunk i stena iz koje se vrši xxunk iste te transport do xxunk za xxunk . xxmaj transport se može izvršiti na različite načine : xxunk , xxunk , xxunk putem , odnosno xxunk te xxunk što je ujedno i xxunk opcija . xxmaj velik problem prilikom xxunk i transporta je mogućnost xxunk nafte u okolinu . xxmaj nove tehnologije su xxunk xxunk xxunk kod xxunk , a to je xxunk manjim brojem xxunk . \n",
       " \n",
       "  xxmaj xxunk xxunk do xxunk sadrži vodu , soli , xxunk jedinjenja , kiseline i druge xxunk . xxmaj kako ovi elementi izazivaju xxunk i ostale negativne efekte na xxunk , xxunk se xxunk . xxmaj voda se uklanja na način da se s dna xxunk u kojem se nalazi xxunk , xxunk voda , jer se xxunk , pošto je xxunk od vode , xxunk na površini . xxmaj drugi način je dodavanje xxunk . xxmaj soli se xxunk dodavanjem visoko xxunk vode u tok nafte . xxmaj xxunk voda xxunk soli koji se xxunk na dnu . \n",
       " \n",
       "  xxmaj procesi koji se odvijaju u xxunk . \n",
       "  xxmaj xxunk . \n",
       "  xxmaj xxunk je prvi korak u postupku xxunk nafte . xxmaj svrha procesa je xxunk ( xxunk ) xxunk iz xxunk nafte u xxunk nafte koje se xxunk na njihovoj tački xxunk . xxmaj xxunk se odvija u velikim xxunk pod dejstvom xxunk pritiska . xxmaj ti xxunk sadrže veliki broj xxunk xxunk ( xxunk ) , gde se xxunk gasovi i tečnosti xxunk i posle toga se tečnost xxunk iz xxunk . xxmaj lakše materije poput xxunk i nafte se xxunk u gornjem delu xxunk , a teže materije se xxunk iz donjeg dela xxunk . \n",
       " \n",
       "  xxmaj xxunk . \n",
       "  xxmaj xxunk je sekundarni proces xxunk nafte kojim se xxunk xxunk xxunk . xxmaj proces se zasniva na xxunk reakciji xxunk s xxunk xxunk ( xxunk , xxunk ) . xxmaj xxunk je xxunk komponenta koja se koristi za proizvodnju xxunk . \n",
       " \n",
       "  xxmaj xxunk . \n",
       "  xxmaj xxunk je xxunk proces u xxunk nafte . xxmaj njime se povećava hemijska stabilnost xxunk xxunk . xxmaj vodonik za ovaj proces se dobija sa postrojenja xxunk xxunk . xxmaj faktori koji utiču na xxunk procesa su : temperatura , pritisak , udeo vodonika i xxunk brzina . \n",
       " \n",
       "  xxmaj xxunk . \n",
       "  xxmaj xxunk je proces koji se koristi ukoliko je potrebno povećati xxunk broj xxunk . xxmaj osim za xxunk xxunk koristi se i za pripremu xxunk za proces xxunk . xxmaj postupak se zasniva na promeni strukture molekula xxunk , a da pri tome xxunk masa ostaje xxunk . \n",
       " \n",
       "  xxmaj xxunk xxunk . \n",
       "  xxmaj ukoliko se želi povećati xxunk broj grupi xxunk xxunk procesom xxunk xxunk , koristi se xxunk xxunk . xxmaj pre njegove primene potrebno je xxunk xxunk xxunk xxunk jedinjenja i xxunk , jer su xxunk . xxmaj pritisak , xxunk i udeo vodonika su xxunk parametri . \n",
       " \n",
       "  xxmaj proces xxunk . \n",
       "  xxmaj koristi se u xxunk xxunk : xxunk , xxunk i xxunk goriva . xxmaj različite xxunk nafte se kombinuju u svrhu dobijanja xxunk proizvoda . xxmaj ovaj proces se još naziva xxunk , jer se xxunk xxunk sumpor prevodi u xxunk xxunk . xxmaj proces zahteva xxunk svih komponenti postupka , i primenu računarskih modela i xxunk . \n",
       " \n",
       "  xxmaj xxunk derivati . \n",
       "  xxmaj xxunk gas . \n",
       "  xxmaj xxunk gas je xxunk derivat nafte , sastoji se od smeše xxunk i xxunk . xxmaj kao takav mora se xxunk da bi se xxunk xxunk xxunk jedinjenja . xxmaj tako xxunk gas može ići na tržište . \n",
       " \n",
       "  xxmaj xxunk . \n",
       "  xxmaj xxunk se koristi kao xxunk gorivo u većini xxunk vozila . xxmaj proizvodi se u dve xxunk : xxunk xxunk koji i m a od 86 - 88 xxunk i super sa 95 - 100 xxunk . xxmaj xxunk broj je mera za xxunk svojstvo xxunk . xxmaj za povećanje xxunk broja dodaju se xxunk jedinjenja , xxup xxunk , xxup xxunk , odnosno xxunk olovo i xxunk olovo . \n",
       " \n",
       "  xxmaj xxunk gorivo . \n",
       "  xxmaj za proizvodnju xxunk goriva koristi se xxunk i delovi xxunk xxunk ulja , ti elementi se xxunk na xxunk do xxunk - { c } - . xxmaj osim xxunk xxunk važan je i xxunk udeo ukupnog sumpora koji ne sme biti veći od 1,0 % zbog xxunk delovanja . xxmaj xxunk broj i xxunk indeks su mere za sposobnost xxunk xxunk goriva . \n",
       " \n",
       "  xxmaj xxunk gorivo . \n",
       "  xxmaj xxunk gorivo je smeša xxunk xxunk i xxunk , odnosno jedinjenja nafte koja se xxunk na xxunk do xxunk - { c } - . xxmaj kako tu vrstu goriva koriste xxunk xxunk koji xxunk na velikim xxunk gde xxunk izrazito niske temperature , potrebno je xxunk da su temperature xxunk ispod xxunk - { c } - . \n",
       " \n",
       "  xxmaj xxunk ulja . \n",
       "  xxmaj ulja se koriste u različite svrhe , osnovna i m je funkcija xxunk motora , xxunk goriva , hlađenje i xxunk motora , kao i sprečavanje xxunk . xxmaj indeks xxunk i m je vrlo visok zbog specifičnih uslova rada , ujedno indeks xxunk je i mera po kojoj se ulja xxunk . \n",
       " \n",
       "  xxmaj xxunk . \n",
       "  xxmaj xxunk je derivat nafte koji se dobija xxunk xxunk ostataka nafte . xxmaj važna svojstva su xxunk , xxunk , temperatura xxunk , xxunk . xxmaj svojstva xxunk zavise od xxunk xxunk xxunk u xxunk . xxmaj svoju upotrebu je pronašao u xxunk i industriji . \n",
       " \n",
       "  xxmaj xxunk . \n",
       "  xxmaj xxunk se dobija iz xxunk xxunk , što je sadržaj ulja manji to je xxunk xxunk . xxmaj primenjuje se u xxunk industriji , proizvodnji xxunk , xxunk , it d . \n",
       " \n",
       "  xxmaj xxunk ulje . \n",
       "  xxmaj za proizvodnju xxunk ulja xxunk se xxunk pri xxunk nafte . xxmaj ono mora da xxunk xxunk xxunk i količine sumpora . xxmaj koristi se kao gorivo u xxunk . \n",
       " \n",
       " \n",
       " \n",
       " \n",
       "y: LMLabelList\n",
       ",,,,\n",
       "Path: data/wiki/sr-100;\n",
       "\n",
       "Test: None, model=SequentialRNN(\n",
       "  (0): AWD_LSTM(\n",
       "    (encoder): Embedding(60003, 400, padding_idx=1)\n",
       "    (encoder_dp): EmbeddingDropout(\n",
       "      (emb): Embedding(60003, 400, padding_idx=1)\n",
       "    )\n",
       "    (rnns): ModuleList(\n",
       "      (0): WeightDropout(\n",
       "        (module): LSTM(400, 1150, batch_first=True)\n",
       "      )\n",
       "      (1): WeightDropout(\n",
       "        (module): LSTM(1150, 1150, batch_first=True)\n",
       "      )\n",
       "      (2): WeightDropout(\n",
       "        (module): LSTM(1150, 400, batch_first=True)\n",
       "      )\n",
       "    )\n",
       "    (input_dp): RNNDropout()\n",
       "    (hidden_dps): ModuleList(\n",
       "      (0): RNNDropout()\n",
       "      (1): RNNDropout()\n",
       "      (2): RNNDropout()\n",
       "    )\n",
       "  )\n",
       "  (1): LinearDecoder(\n",
       "    (decoder): Linear(in_features=400, out_features=60003, bias=True)\n",
       "    (output_dp): RNNDropout()\n",
       "  )\n",
       "), opt_func=functools.partial(<class 'torch.optim.adam.Adam'>, betas=(0.9, 0.99)), loss_func=FlattenedLoss of CrossEntropyLoss(), metrics=[<function accuracy at 0x7fe1443c17b8>], true_wd=True, bn_wd=True, wd=0.01, train_bn=True, path=PosixPath('data/wiki/sr-100'), model_dir='models', callback_fns=[functools.partial(<class 'fastai.basic_train.Recorder'>, add_time=True)], callbacks=[...], layer_groups=[Sequential(\n",
       "  (0): WeightDropout(\n",
       "    (module): LSTM(400, 1150, batch_first=True)\n",
       "  )\n",
       "  (1): RNNDropout()\n",
       "), Sequential(\n",
       "  (0): WeightDropout(\n",
       "    (module): LSTM(1150, 1150, batch_first=True)\n",
       "  )\n",
       "  (1): RNNDropout()\n",
       "), Sequential(\n",
       "  (0): WeightDropout(\n",
       "    (module): LSTM(1150, 400, batch_first=True)\n",
       "  )\n",
       "  (1): RNNDropout()\n",
       "), Sequential(\n",
       "  (0): Embedding(60003, 400, padding_idx=1)\n",
       "  (1): EmbeddingDropout(\n",
       "    (emb): Embedding(60003, 400, padding_idx=1)\n",
       "  )\n",
       "  (2): LinearDecoder(\n",
       "    (decoder): Linear(in_features=400, out_features=60003, bias=True)\n",
       "    (output_dp): RNNDropout()\n",
       "  )\n",
       ")], add_time=True)\n",
       "alpha: 2.0\n",
       "beta: 1.0], layer_groups=[Sequential(\n",
       "  (0): WeightDropout(\n",
       "    (module): LSTM(400, 1150, batch_first=True)\n",
       "  )\n",
       "  (1): RNNDropout()\n",
       "), Sequential(\n",
       "  (0): WeightDropout(\n",
       "    (module): LSTM(1150, 1150, batch_first=True)\n",
       "  )\n",
       "  (1): RNNDropout()\n",
       "), Sequential(\n",
       "  (0): WeightDropout(\n",
       "    (module): LSTM(1150, 400, batch_first=True)\n",
       "  )\n",
       "  (1): RNNDropout()\n",
       "), Sequential(\n",
       "  (0): Embedding(60003, 400, padding_idx=1)\n",
       "  (1): EmbeddingDropout(\n",
       "    (emb): Embedding(60003, 400, padding_idx=1)\n",
       "  )\n",
       "  (2): LinearDecoder(\n",
       "    (decoder): Linear(in_features=400, out_features=60003, bias=True)\n",
       "    (output_dp): RNNDropout()\n",
       "  )\n",
       ")], add_time=True)"
      ]
     },
     "execution_count": 5,
     "metadata": {},
     "output_type": "execute_result"
    }
   ],
   "source": [
    "# How to load model after kernel restart\n",
    "wiki_data_path = Path('data/wiki/sr-100/')\n",
    "loaded_data_lm = load_data(wiki_data_path, 'tmp_lm', bs=bs)\n",
    "loaded_learner = language_model_learner(data=loaded_data_lm, arch=AWD_LSTM, drop_mult=0.9)\n",
    "loaded_learner.load('sr-100-best')"
   ]
  },
  {
   "cell_type": "code",
   "execution_count": 6,
   "metadata": {},
   "outputs": [
    {
     "data": {
      "text/plain": [
       "'Српска нација је јако стара, старија и од села Стара Француза'"
      ]
     },
     "execution_count": 6,
     "metadata": {},
     "output_type": "execute_result"
    }
   ],
   "source": [
    "loaded_learner.predict('Српска нација је јако стара, старија и од', n_words=5)"
   ]
  },
  {
   "cell_type": "code",
   "execution_count": 40,
   "metadata": {},
   "outputs": [
    {
     "data": {
      "text/plain": [
       "[4.8230243, tensor(0.3714)]"
      ]
     },
     "execution_count": 40,
     "metadata": {},
     "output_type": "execute_result"
    }
   ],
   "source": [
    "# loaded_learner perplexity\n",
    "math.exp(4.297678)\n",
    "loaded_learner.validate()"
   ]
  },
  {
   "cell_type": "markdown",
   "metadata": {},
   "source": [
    "### Fine tune on SerbMR unsupervised data"
   ]
  },
  {
   "cell_type": "code",
   "execution_count": 7,
   "metadata": {},
   "outputs": [
    {
     "name": "stdout",
     "output_type": "stream",
     "text": [
      "['sr', 'l1', 'bg', 'uk', 'ru', 'ka', 'el', 'mn', 'hy', 'mk']\n"
     ]
    }
   ],
   "source": [
    "# !pip install transliterate\n",
    "from transliterate import translit, get_available_language_codes\n",
    "print(get_available_language_codes())"
   ]
  },
  {
   "cell_type": "code",
   "execution_count": 35,
   "metadata": {},
   "outputs": [
    {
     "name": "stdout",
     "output_type": "stream",
     "text": [
      "(1682, 2)\n"
     ]
    },
    {
     "data": {
      "text/html": [
       "<div>\n",
       "<style scoped>\n",
       "    .dataframe tbody tr th:only-of-type {\n",
       "        vertical-align: middle;\n",
       "    }\n",
       "\n",
       "    .dataframe tbody tr th {\n",
       "        vertical-align: top;\n",
       "    }\n",
       "\n",
       "    .dataframe thead th {\n",
       "        text-align: right;\n",
       "    }\n",
       "</style>\n",
       "<table border=\"1\" class=\"dataframe\">\n",
       "  <thead>\n",
       "    <tr style=\"text-align: right;\">\n",
       "      <th></th>\n",
       "      <th>0</th>\n",
       "      <th>1</th>\n",
       "    </tr>\n",
       "  </thead>\n",
       "  <tbody>\n",
       "    <tr>\n",
       "      <th>0</th>\n",
       "      <td>POSITIVE</td>\n",
       "      <td>Један од најјачих адута европске кинематографи...</td>\n",
       "    </tr>\n",
       "    <tr>\n",
       "      <th>1</th>\n",
       "      <td>NEGATIVE</td>\n",
       "      <td>Желим у старту да се изјасним да нисам фан фра...</td>\n",
       "    </tr>\n",
       "    <tr>\n",
       "      <th>2</th>\n",
       "      <td>POSITIVE</td>\n",
       "      <td>Да ли си оно што си или оно што би желео да бу...</td>\n",
       "    </tr>\n",
       "    <tr>\n",
       "      <th>3</th>\n",
       "      <td>NEGATIVE</td>\n",
       "      <td>Брокебацк моунтаин, чудесне године 'А сенсуал,...</td>\n",
       "    </tr>\n",
       "    <tr>\n",
       "      <th>4</th>\n",
       "      <td>POSITIVE</td>\n",
       "      <td>Пријатељ ми је дуже време скретао пажњу да пог...</td>\n",
       "    </tr>\n",
       "  </tbody>\n",
       "</table>\n",
       "</div>"
      ],
      "text/plain": [
       "          0                                                  1\n",
       "0  POSITIVE  Један од најјачих адута европске кинематографи...\n",
       "1  NEGATIVE  Желим у старту да се изјасним да нисам фан фра...\n",
       "2  POSITIVE  Да ли си оно што си или оно што би желео да бу...\n",
       "3  NEGATIVE  Брокебацк моунтаин, чудесне године 'А сенсуал,...\n",
       "4  POSITIVE  Пријатељ ми је дуже време скретао пажњу да пог..."
      ]
     },
     "execution_count": 35,
     "metadata": {},
     "output_type": "execute_result"
    }
   ],
   "source": [
    "df_train = pd.read_csv('data/serbmr/sr.train.csv', header=None)\n",
    "df_test = pd.read_csv('data/serbmr/sr.test.csv', header=None)\n",
    "df = pd.concat([df_train, df_test]) \n",
    "values = df[1].apply(translit, args=('sr',))\n",
    "df[1] = values\n",
    "print(df.shape)\n",
    "df.head()"
   ]
  },
  {
   "cell_type": "code",
   "execution_count": 36,
   "metadata": {},
   "outputs": [],
   "source": [
    "df.to_csv('data/serbmr/sr.unsup.csv', index=False, header=None)"
   ]
  },
  {
   "cell_type": "code",
   "execution_count": 8,
   "metadata": {},
   "outputs": [
    {
     "data": {
      "text/plain": [
       "[PosixPath('data/serbmr/sr.unsup.csv'),\n",
       " PosixPath('data/serbmr/prepare_serbmr.py'),\n",
       " PosixPath('data/serbmr/.ipynb_checkpoints'),\n",
       " PosixPath('data/serbmr/sr.test.csv'),\n",
       " PosixPath('data/serbmr/SerbMR-2C.csv'),\n",
       " PosixPath('data/serbmr/classes.txt'),\n",
       " PosixPath('data/serbmr/sr.train.csv'),\n",
       " PosixPath('data/serbmr/tmp_lm')]"
      ]
     },
     "execution_count": 8,
     "metadata": {},
     "output_type": "execute_result"
    }
   ],
   "source": [
    "# path for SerbMR data\n",
    "serbmr_data_path = Path('data/serbmr/')\n",
    "bs = 4\n",
    "serbmr_data_path.ls()"
   ]
  },
  {
   "cell_type": "code",
   "execution_count": 9,
   "metadata": {},
   "outputs": [],
   "source": [
    "# create LM DataBunch from SerbMR unsupervised corpus of review (https://vukbatanovic.github.io/SerbMR/)\n",
    "data1_lm = TextLMDataBunch.from_csv(serbmr_data_path, 'sr.unsup.csv', text_cols=1, bs=bs)"
   ]
  },
  {
   "cell_type": "code",
   "execution_count": 10,
   "metadata": {},
   "outputs": [
    {
     "name": "stdout",
     "output_type": "stream",
     "text": [
      "Size of vocabulary: 34833\n",
      "First 20 words in vocab: ['xxunk', 'xxpad', 'xxbos', 'xxfld', 'xxmaj', 'xxup', 'xxrep', 'xxwrep', ',', '.', 'и', 'је', 'да', 'у', 'се', 'на', '(', ')', 'који', 'не']\n",
      "data/serbmr\n"
     ]
    }
   ],
   "source": [
    "itos, stoi, data_path = data1_lm.vocab.itos, data1_lm.vocab.stoi, data1_lm.path\n",
    "print('Size of vocabulary:', len(itos))\n",
    "print('First 20 words in vocab:', itos[:20])\n",
    "print(str(data_path))"
   ]
  },
  {
   "cell_type": "code",
   "execution_count": 11,
   "metadata": {},
   "outputs": [
    {
     "data": {
      "text/plain": [
       "(1344, 337)"
      ]
     },
     "execution_count": 11,
     "metadata": {},
     "output_type": "execute_result"
    }
   ],
   "source": [
    "len(data1_lm.train_ds), len(data1_lm.valid_ds)"
   ]
  },
  {
   "cell_type": "code",
   "execution_count": 11,
   "metadata": {},
   "outputs": [
    {
     "data": {
      "text/html": [
       "<table border=\"1\" class=\"dataframe\">\n",
       "  <thead>\n",
       "    <tr style=\"text-align: right;\">\n",
       "      <th>idx</th>\n",
       "      <th>text</th>\n",
       "    </tr>\n",
       "  </thead>\n",
       "  <tbody>\n",
       "    <tr>\n",
       "      <td>0</td>\n",
       "      <td>xxunk до бољег снимка xxmaj вука са xxmaj вол xxmaj xxunk биће текст и за то па ћу коментарисати да ли је можда xxmaj лео заслужио оскара више од xxmaj метјуа али xxunk потом . xxmaj само бих поручио xxmaj xxunk фановима да не брину , пре или касније и он ће добити оскара . xxmaj мислим , xxmaj џејми xxmaj фокс има оскара . xxmaj зашто би та награда</td>\n",
       "    </tr>\n",
       "    <tr>\n",
       "      <td>1</td>\n",
       "      <td>комедија о судару култура кроз xxunk xxunk јунака у xxmaj америци , бескрајно више волим xxmaj партy xxmaj блакеа xxmaj xxunk . xxmaj но , xxmaj борат је трасх документарна комедија само по својој форми . xxmaj по својој суштини , ово дело спада у политичке драме с тезом . xxmaj нешто као xxmaj xxunk драме , само да су их којим случајем писали xxmaj xxunk и xxmaj xxunk трудећи</td>\n",
       "    </tr>\n",
       "    <tr>\n",
       "      <td>2</td>\n",
       "      <td>, али је чова који је успео да преживи свакаква срања . xxmaj ако је већ успео да преживи сва та срања , онда је морао да има какво такво знање да може да се снађе у времену и простору . xxmaj овде имамо пар ситуација које он xxunk генијално . xxmaj али у пар сцена , ваљда да се сценаристи xxunk како је xxmaj меклејн матор и не мора</td>\n",
       "    </tr>\n",
       "    <tr>\n",
       "      <td>3</td>\n",
       "      <td>ми испричао ту причу ? ! ! xxmaj ето . xxmaj дошло ми . xxmaj каже лекар . xxmaj та прича је она црна кутија овог филма из које можете xxunk читав филм . xxmaj сви јунаци су то дете , са мукама у себи са којима не могу да се изборе и нико не може да им помогне . xxmaj читава xxmaj ирска је то болно тело које не</td>\n",
       "    </tr>\n",
       "    <tr>\n",
       "      <td>4</td>\n",
       "      <td>што ће се клинци навући на неке супер групе из саундтрека , заборавити филм и наставити да слушају супер музику . xxbos xxmaj филмови xxmaj давида xxmaj лyнцха обавезно изазивају поделе међу гледаоцима , како у тумачењу ( xxup шта се ту заправо десило ? ) тако и у xxunk ( xxup шта је ту толико добро ? ) . xxmaj судећи по xxunk приказима , изгледа да таква xxunk</td>\n",
       "    </tr>\n",
       "  </tbody>\n",
       "</table>"
      ],
      "text/plain": [
       "<IPython.core.display.HTML object>"
      ]
     },
     "metadata": {},
     "output_type": "display_data"
    }
   ],
   "source": [
    "data1_lm.show_batch()"
   ]
  },
  {
   "cell_type": "code",
   "execution_count": 12,
   "metadata": {},
   "outputs": [
    {
     "data": {
      "text/plain": [
       "(<fastai.text.data.Text at 0x7fe1201879e8>,\n",
       " <fastai.core.EmptyLabel at 0x7fe1201876a0>)"
      ]
     },
     "execution_count": 12,
     "metadata": {},
     "output_type": "execute_result"
    }
   ],
   "source": [
    "data1_lm.train_ds[0]"
   ]
  },
  {
   "cell_type": "code",
   "execution_count": 12,
   "metadata": {},
   "outputs": [],
   "source": [
    "# save data bunch \n",
    "data1_lm.save('tmp_lm')"
   ]
  },
  {
   "cell_type": "code",
   "execution_count": 13,
   "metadata": {},
   "outputs": [],
   "source": [
    "data1_lm = load_data(serbmr_data_path, 'tmp_lm', bs=bs)"
   ]
  },
  {
   "cell_type": "markdown",
   "metadata": {},
   "source": [
    "## Create Learner and Finetune model from pretrained fnames"
   ]
  },
  {
   "cell_type": "code",
   "execution_count": 14,
   "metadata": {},
   "outputs": [],
   "source": [
    "# pretrained model and vocab from first step of training LM\n",
    "# pretrained_fnames = ['sr-2-best', 'itos']\n",
    "pretrained_fnames = ['sr-100-best', 'itos']"
   ]
  },
  {
   "cell_type": "code",
   "execution_count": 15,
   "metadata": {},
   "outputs": [
    {
     "name": "stdout",
     "output_type": "stream",
     "text": [
      "Unknown tokens 34618, first 100: ['xxfld', 'и', 'је', 'да', 'у', 'се', 'на', 'који', 'не', 'за', 'су', 'што', 'од', 'са', 'као', 'филм', 'а', 'то', 'али', 'није', 'све', 'о', 'филма', 'из', 'би', 'која', 'сам', 'које', 'како', 'ће', 'само', 'или', 'овај', 'када', 'ово', 'по', 'до', 'тако', 'већ', 'он', 'више', 'ни', 'има', 'филму', 'нешто', 'још', 'ако', 'један', 'га', 'ми', 'шта', 'ту', 'може', 'па', 'јер', 'оно', 'прича', 'иако', 'овде', 'овог', 'тога', 'тхе', 'било', 'био', 'нема', 'му', 'можда', 'с', 'без', 'због', 'док', '„', 'нам', 'него', 'она', 'бити', 'баш', 'коју', 'толико', 'пре', 'мало', 'ствари', 'вам', 'треба', 'кроз', 'људи', 'те', 'ли', 'начин', 'много', 'колико', 'буде', 'овом', 'чак', 'своје', 'година', 'их', 'нису', 'филмова', 'приче']\n",
      "Unknown tokens 17078, first 100: ['тхе', '’’', 'анд', 'браћо', 'гледалац', 'гледамо', 'сматрам', 'нисте', 'јохн', 'гледате', 'мицхаел', 'збиља', 'ваљда', 'забаван', 'гледам', 'замислите', 'нећете', 'јамес', 'погледао', 'клишеа', 'претпостављам', 'акционих', 'погледате', 'глупости', 'трилера', 'елем', 'зомби', 'yоу', 'даy', 'ужасно', 'иоле', 'моменти', 'поента', 'погледам', 'досадан', 'јунакиње', 'надам', 'смешно', 'цитy', 'акционе', 'ефектно', 'холивудски', 'требао', 'цги', 'срање', 'блацк', 'негативац', 'немојте', 'срања', 'хоусе', 'видећете', 'волите', 'вазда', 'говорим', 'гледаоцу', 'мислите', 'генијално', 'клише', 'редитељски', 'бла', 'фантастично', 'поенту', 'крај.', 'смешан', 'сећам', 'препоручујем', 'упознајемо', 'гоод', 'пишем', 'сцотт', 'неподношљиво', 'сф', 'имдб', 'разумем', 'мелодрама', 'рекох', 'јохна', 'кате', 'јацк', 'одмиче', 'наратив', 'кастинг', 'феноменалан', 'мy', 'нигхт', 'човече', 'деад', 'генијалан', 'ниоткуда', 'нот', 'сеx', 'остварењем', 'георге', 'цхрис', 'wоодy', 'бесмислено', 'идиота', 'емма', 'погледали', 'мовие']\n"
     ]
    }
   ],
   "source": [
    "# create learner and provide pretrained files to finetune wiki-LM with serbMR data\n",
    "learner = language_model_learner(data1_lm, AWD_LSTM, pretrained_fnames=pretrained_fnames, drop_mult=0.9, \n",
    "                                 model_dir='../wiki/sr-100/models')"
   ]
  },
  {
   "cell_type": "code",
   "execution_count": 16,
   "metadata": {},
   "outputs": [],
   "source": [
    "learner.callback_fns += [partial(CSVLogger, filename=f\"{learner.model_dir}/lm-history\"),\n",
    "                         partial(SaveModelCallback, every='epoch', name='lm')]"
   ]
  },
  {
   "cell_type": "code",
   "execution_count": 17,
   "metadata": {},
   "outputs": [],
   "source": [
    "learner.opt_func = partial(optim.Adam, betas=(0.8, 0.99))"
   ]
  },
  {
   "cell_type": "code",
   "execution_count": 18,
   "metadata": {},
   "outputs": [
    {
     "data": {
      "text/html": [],
      "text/plain": [
       "<IPython.core.display.HTML object>"
      ]
     },
     "metadata": {},
     "output_type": "display_data"
    },
    {
     "name": "stdout",
     "output_type": "stream",
     "text": [
      "LR Finder is complete, type {learner_name}.recorder.plot() to see the graph.\n"
     ]
    }
   ],
   "source": [
    "learner.lr_find()"
   ]
  },
  {
   "cell_type": "code",
   "execution_count": 19,
   "metadata": {},
   "outputs": [
    {
     "data": {
      "image/png": "[encoded data removed]",
      "text/plain": [
       "<Figure size 432x288 with 1 Axes>"
      ]
     },
     "metadata": {
      "needs_background": "light"
     },
     "output_type": "display_data"
    }
   ],
   "source": [
    "learner.recorder.plot(skip_end=15)"
   ]
  },
  {
   "cell_type": "code",
   "execution_count": 79,
   "metadata": {},
   "outputs": [],
   "source": [
    "moms = (0.8, 0.7)"
   ]
  },
  {
   "cell_type": "code",
   "execution_count": 20,
   "metadata": {},
   "outputs": [
    {
     "data": {
      "text/html": [
       "Total time: 06:19 <p><table border=\"1\" class=\"dataframe\">\n",
       "  <thead>\n",
       "    <tr style=\"text-align: left;\">\n",
       "      <th>epoch</th>\n",
       "      <th>train_loss</th>\n",
       "      <th>valid_loss</th>\n",
       "      <th>accuracy</th>\n",
       "      <th>time</th>\n",
       "    </tr>\n",
       "  </thead>\n",
       "  <tbody>\n",
       "    <tr>\n",
       "      <td>1</td>\n",
       "      <td>6.121421</td>\n",
       "      <td>5.382051</td>\n",
       "      <td>0.245499</td>\n",
       "      <td>06:19</td>\n",
       "    </tr>\n",
       "  </tbody>\n",
       "</table>"
      ],
      "text/plain": [
       "<IPython.core.display.HTML object>"
      ]
     },
     "metadata": {},
     "output_type": "display_data"
    }
   ],
   "source": [
    "# learning the same way as in fastai v1 examples\n",
    "learner.fit_one_cycle(1, 1e-2) #, moms=moms)"
   ]
  },
  {
   "cell_type": "code",
   "execution_count": 21,
   "metadata": {},
   "outputs": [],
   "source": [
    "learner.save('fit_head')"
   ]
  },
  {
   "cell_type": "code",
   "execution_count": 22,
   "metadata": {},
   "outputs": [
    {
     "data": {
      "text/plain": [
       "LanguageLearner(data=TextLMDataBunch;\n",
       "\n",
       "Train: LabelList (1344 items)\n",
       "x: LMTextList\n",
       "xxbos xxmaj не знам да ли вам се десило да дан после гледања филма не можете да се сетите xxunk вредног помена . xxmaj мени сигурно јесте . xxmaj очекивао сам много од овог филма а ево и зашто . xxmaj фан сам вестерна , оних класичних са xxmaj џон xxmaj вејном и компанијом . xxmaj нови вестерни могу се набројати на прсте једне руке , а нови а квалитетан још нисам погледао . xxmaj треба наравно да бацим око на xxmaj труе xxmaj грит , мада је и он римејк вестерна са xxmaj џон xxmaj вејном , и xxunk то xxmaj xxunk , који је , гле чуда , исто римејк . xxmaj тако да нове , квалитетне а оригиналне вестерне можемо набројати на прсте кишне xxunk . xxmaj друга ствар због које сам очекивао много су два главна глумца . xxmaj ма не , не мислим на xxmaj меган xxmaj фокс , рекао сам глумца , она , колико год била симпатична , нема баш способност глуме . xxmaj џош бролин је сјајан избор за насловну улогу и стварно опако изгледа са оним одвратним ожиљком . xxmaj али xxmaj џон xxmaj малкович , колико год био феноменалан глумац , колико год га ценим , никако не xxunk за ову улогу . xxmaj замислите рецимо xxmaj шварценегера у љубавном филму , или на пример xxmaj џек xxmaj блека у xxunk . xxmaj постоје ствари које никако не иду . xxmaj филм почиње скроз добро , чисто да вас xxunk не би ли вас још више xxunk . xxmaj сцена у којој се види како је xxmaj јонах xxmaj хеx задобио ожиљак је супер , неколико његових појава су ок , сцена у којој xxmaj фасбендер звучи сјајну мелодију xxmaj wхен xxmaj јохннy xxmaj цомес xxmaj марцхинг xxmaj хоме и наредна пљачка воза су исто сасвим ок . xxmaj све остало је блага пропаст , од сцена у којим xxmaj јонах xxmaj хеx комуницира са мртвима , до његових неких триповања и сваке очајне сцене са xxmaj меган xxmaj фоx ... xxmaj човече , као да су само имали на уму да убаце лепо женско у филм и то је то . xxmaj на крају , овај филм је био велико разочарење , могао је бити стварно добар али су га неке више силе и новац xxunk xxunk у тешку xxunk .,xxbos xxmaj иако изгледа као xxup сф филм , xxmaj битка : xxmaj лос xxmaj анђелес далеко више функционише као ратни филм . xxmaj xxunk и шокантна инвазија ванземаљаца затиче планету xxunk . xxmaj војска покушава да се носи са xxunk ситуацијом , а у фокусу приче је групу маринаца на задатку xxunk цивила из xxunk полицијске станицу у делу xxmaj лос xxmaj анђелеса који већ држе ванземаљци . xxmaj xxunk фокуса на групу војника омогућава xxunk приказ те групе маринаца уз идеје које је дефинишу и xxunk xxunk - идеја вође , идеја xxunk јединице на терену , мото “ но ман лефт бехинд ” и идеју потпуне xxunk зарад xxunk живота цивила . xxmaj после xxunk интервенција америчке војске у xxmaj авганистану и xxmaj ираку , које нису xxunk жељени успех , а пре свега су довеле у питање смисао војних xxunk xxmaj америке , не би било лако осмислити оправданог непријатеља америчким xxunk . xxmaj за то су послужили ванземаљци , о којима у филму сазнајемо да су xxunk далеко напреднији од нас , и да имају врло гадне намере , што је сасвим једноставан приказ али уједно и сасвим довољан . xxmaj таквом поставком , успостављен је једнодимензионални непријатељ пар xxunk , према коме може бити усмерена апсолутна мржња . xxmaj управо то ствара xxunk ситуација , кроз идеалног противника , који ће у првом налету бацити америчке трупе на колена и пружити им прилику да покажу своју xxunk моћ и ефикасност када се после тога уздигну из пепела и сукобе са таквим xxmaj xxunk . xxmaj сложени поступак промовисања бројних квалитета војске , присутан је како у појединачним чиновима војника , тако и у карактеру самог задатка . у филму су пажљиво грађени такви моменти . xxmaj кренути иза непријатељских линија , не марећи за опасност и цену , са циљем спасавања xxunk цивила , полазиште је које ствара представу о војсци као врхунској институцији у служби грађана . xxmaj значај вође , xxunk фигуре која се брине о својим војницима , оцртан је кроз динамику ликова поручника ( xxmaj xxunk xxmaj родригуез ) и водника ( xxmaj аарон xxmaj ецкхарт ) , и њихов однос према војницима . xxmaj један млађи поручник , мораће да научи цену одлуке у xxunk тренутку за животе војника . xxmaj старији xxunk показаће колико је тежак тај терет одговорности . xxmaj кроз сукоб водника и једног од војника чији је брат погинуо под претходном командом водника изложена је неизбежна тескоба услед смрти војника . у сцени xxunk сукоба између њих двојице , емотивно xxunk , концепт одавања поште кроз сећање палим борцима још једном је приказан као начин на који се излази на крај са неизбежно присутном смрћу саборца . xxmaj xxunk притисак како непријатеља тако и временских xxunk за обављање задатка , филму дају xxunk динамику и изразито озбиљан тон . xxmaj то је постигнуто крупним кадровима , њиховим брзим xxunk и константним коришћењем камере из руке . xxmaj осећај моменталне опасности и узбуђења доминира филмом . xxmaj сценографија која сугерише xxunk хаос и безнађе у коме се нашао xxunk xxup л.а. постаје убедљиво окружење за дизање из пепела xxunk америчких војника , који ће , кроз тај процес , показати своју неизмерну xxunk , пожртвованост , ефикасност и храброст .,xxbos xxmaj потпуни фијаско који је филм xxmaj не знам како јој полази за руком доживео на америчким благајнама показао је само оно што се већ подуже xxunk - публика , напросто , није заинтересована да гледа xxmaj сару xxmaj јессицу xxmaj паркер у нечему што није xxunk xxmaj секса и града xxmaj неуспех је тим већи јер је у питању екранизација радо xxunk романа . xxmaj иако је за редитеља узет xxmaj доуглас xxunk , аутор с кредибилитетом и цењеним опусом ( xxmaj емма , xxmaj цомпанy xxmaj мен , xxmaj xxunk ) , чини се да овом пројекту није било помоћи . xxmaj није помогла ни очигледна xxunk амбициозност у приступу . xxmaj он се овде својски упињао да учини полазну основу необичном , те је подоста интервенција унутар кадра и на слици , играни делови прожети су xxunk xxunk споредних ликова директно у камеру , а упадљива је и xxunk визуелна xxunk израза . xxmaj такође , није помогло ни присуство многих поштованих глумаца ( xxmaj пиерце xxmaj броснан , xxmaj грег xxmaj киннеар , xxmaj келсеy xxmaj граммер ) , стратешки xxunk да покривају xxunk глумицу , давних дана xxunk у xxunk xxunk . xxmaj осим xxmaj саре xxmaj јессице xxmaj паркер и суштински веома xxunk лика који тумачи , проблем представљају мањак садржаја и xxunk драме с којом се јунакиња xxunk , баш као и крајње дискутабилна идеолошка потка читаве приче . xxmaj наиме , главна јунакиња је успешна пословна жена , мајка малолетне деце и посвећена супруга , жена без страха и мане , а у сталном стању хаоса , којој се сви диве јер умешно xxunk с толико обавеза . xxmaj наравно , све ове улоге и xxunk представљају терет с којим се носе и жене из наше стварносне димензије , не очекујући при том xxunk xxunk попут xxunk лика овог филма . xxmaj ту долазимо до филма као пуког xxunk xxunk цивилизације , xxunk xxunk xxunk , а крајњи резултат је неубедљива драма и недуховита комедија о лику који није ни најмање интригантан .,xxbos xxmaj четврти xxmaj пиратес оф тхе xxmaj цариббеан филм представља савршен пример онога што су постали летњи блокбастер наставци : xxunk мешавина елемената из прошлих наставака спојених немаштовитим акционим сценама ( које су или инспирисане или дизајниране за видео игрице ) и специјалним ефектима . xxmaj кредити за сценарио иду xxmaj теду xxmaj xxunk и xxmaj xxunk xxmaj xxunk , али једнако лако га је могао xxunk и компјутер . у том случају би барем добили много краћу верзију . xxmaj основна прича је једноставна ; помало је налик чуду како су xxmaj еллиотт и xxmaj xxunk успели да xxunk експозицију и дијалог на xxunk минута филма . xxmaj критика о xxmaj он xxmaj странгер xxmaj тидес као филму има ограничену вредност . xxmaj попут многих летњих блокбастера , осмишљен је тако да пружи тренутну дозу адреналина док враћа публику на неколико познатих ликова и елемената . xxmaj све што ће бити xxunk по изласку из биоскопа јесте да сада постоје четири епизоде у франшизи . xxmaj он xxmaj странгер xxmaj тидес постоји негде између видео игрице и вожње по забавном парку ( у овом случају , други део се може схватити буквално ) и вероватно ће бити довољно за оне који не траже ништа више . xxmaj међутим , чисто сумњам да ће то бити већина од људи који ће свој тешко xxunk новац дати за биоскопску пројекцију ( у xxup 3д - у или добром старом xxup 2д - у ) . xxmaj за постојање xxunk xxmaj пирата можемо пре свега захвалити xxmaj xxunk xxmaj xxunk , чије је интересовање xxunk xxunk са великим бројем нула испред xxunk xxunk . xxmaj ово нико не би требало да му узме за зло ; он је платио своје дугове xxunk радом са редитељима као што су xxmaj јим xxmaj јармусцх и xxmaj террy xxmaj гиллиам . xxmaj ипак , помало је разочаравајуће што је његов допринос наставку xxmaj он xxmaj странгер xxmaj тидес сведен на допадљивост и понашање харизматичног капетана којег је глумио у претходна три филма . xxmaj капетан xxmaj јацк је једнако могао бити анимирана верзија xxunk фигуре xxmaj мадам xxmaj xxunk . xxmaj он xxmaj странгер xxmaj тидес почиње у неко неодређено време после завршетка xxmaj ат xxmaj wорлд'с xxmaj енд . xxmaj капетан xxmaj јацк , у пратњи старе љубави xxmaj xxunk ( xxmaj пенелопе xxmaj цруз ) и њеног оца xxmaj црнобрадог ( xxmaj иан xxunk ) , трага за xxmaj фонтаном xxmaj вечне xxmaj младости . у трци за наградом су још две групе : мала група шпанских војника и енглески xxunk на челу са капетаном xxmaj xxunk ( xxmaj геоффреy xxmaj русх ) . xxmaj као и у свакој мисији , да би се стигло до циља није довољно само пратити мапу , јер успут морају да скупе још две xxunk - два xxunk и сузу сирене . xxmaj неколико ликова се вратило из ранијих пирата , укључујући xxmaj xxunk и xxmaj xxunk xxunk руку , xxmaj xxunk ( xxmaj кевин xxunk ) . xxmaj орландо xxmaj блоом и xxmaj кеира xxmaj книгхтлеy се не појављују и , зачудо , недостају нам . xxmaj xxunk флертовања са xxmaj xxunk била су најбоља ствар у xxmaj деад xxmaj xxunk xxmaj xxunk а , осим тога , два ' xxunk ' лика су представљала контраст кловну капетана xxmaj јацка . xxmaj без њих , овај xxunk је много мање допадљивији . у филм су xxunk и два небитна споредна лика ( xxunk и сирена ) који треба да додају елеменат романсе који недостаје без xxmaj елизабетх xxmaj сwан и xxmaj wилла xxmaj xxunk , али они не успевају да дођу до xxunk . xxmaj тако да је xxmaj јацк остављен са xxmaj xxunk , али једина ствар у вези xxmaj пенелопе xxmaj цруз која није површна у овој улози је њено попрсје . xxmaj режија xxmaj роба xxmaj марсхалла је компетентна и , с техничке тачке посматрања , нема ништа што не ваља са акционим сценама осим што им недостаје узбудљивост . xxmaj поред свих његових мана , xxmaj горе xxmaj вербински је барем врхунски одрадио акцију . xxmaj на много начина , xxmaj он xxmaj странгер xxmaj тидес подсећа на још један четврти наставак , xxmaj индиана xxmaj јонес анд тхе xxmaj кингдом оф тхе xxmaj црyстал xxmaj скулл . xxmaj ниво разочарења је можда мањи јер је xxunk између трећег и четвртог xxmaj пирата само неколико година , док нас је трио xxmaj спиелберг / xxmaj луцас / xxmaj форд натерао да чекамо две деценије . xxmaj ипак , оба филма су xxunk да су филмаџије xxunk да се зауставе на трилогији . xxmaj као филм , xxmaj он xxmaj странгер xxmaj тидес би се сматрао неуспехом . xxmaj прича нас не увлачи , ликови су површни и xxunk , акционе сцене су одрађене , и цела прича смрди на узимање пара . xxmaj ипак , ако се погледа кроз призму онога што се често назива ' xxunk забава ' , филм је релативно јефтин начин да xxunk ум и xxunk чула . xxmaj са добро постављеним очекивањима , можда вас овај xxmaj пиратес оф тхе xxmaj цариббеан неће натерати да се осећате као да сте присуствовали xxunk из шупљег у празно .,xxbos xxmaj британска кинематографија је једна од xxunk кинематографија xxmaj европе и једина која је могла да представља озбиљан пандан xxmaj холивуду . xxmaj управо овај осећај здраве конкуренције између америчког и британског филма је радио у корист xxunk филмске уметности са обе стране xxmaj атлантика . xxmaj британски филм је извршио значајан утицај на xxmaj холивуд четрдесетих и педесетих година , да би са xxunk xxmaj новог холивуда ( xxmaj скорсезе , xxmaj копола , xxmaj xxunk , xxmaj спилберг , xxmaj лукас ) која је донела xxunk филмове у историји филма изгубио трку и касније покушао да са мање или више успеха xxunk нове тенденције у сопственој индустрији . xxmaj једна од најзначајнијих британских продуцентских кућа је управо xxmaj еалинг xxmaj студиос за коју је између осталог снимљен и други филм xxmaj xxunk xxunk ( xxmaj алеxандер xxmaj xxunk ) . xxmaj еалинг xxmaj студиос ће остати упамћен по својим комедијама а једна од најбољих је и последњи филм који је меккендрик снимио за xxmaj еалинг , односно xxmaj xxunk ( xxunk ) . xxmaj после овог филма он ће се xxunk у родној xxmaj америци и снимити ремек дело xxmaj сwеет xxmaj смелл оф xxmaj суццесс ( xxunk ) . xxmaj један од првих успешних филмова редитеља је xxmaj тхе xxmaj ман xxmaj ин xxmaj тхе xxmaj wхите xxmaj xxunk где је меккендрик показао да је искалио занат , да је добар приповедач и да је заинтересован за xxunk модерног капиталистичког друштва које ће касније елаборирати у xxmaj сwеет xxmaj смелл оф xxmaj суццесс . xxmaj протагониста филма је xxmaj сидни xxmaj стетон , xxunk и xxunk који на различите начине покушава да се дочепа xxunk различитих xxunk фабрика не би ли остварио свој експеримент у коме је на трагу да направи xxunk тканину која одбија xxunk . xxmaj иако га првобитно узимају за лудака , xxmaj стетон успева да задобије пажњу директора xxmaj xxunk преко познанства са његовом ћерком . xxmaj када коначно успе да направи тканину а затим и одело , xxmaj стетон се суочава са притисцима капиталиста који се брину за будућност индустрије , али и радника који се брину за посао . xxmaj радници који xxunk борбу за своја права у xxunk , се постављају врло xxunk пред претњом да изгубе посао , не размишљајући о широј слици онога што би xxmaj xxunk проналазак могао да донесе . xxmaj природа капиталистичког система је овде приказана у својој баналности и xxmaj стетон се овде насупрот крупним xxunk могао упоредити са xxmaj xxunk као xxunk и xxunk , насупрот xxunk и xxunk xxunk xxmaj xxunk . xxmaj нека редитељска xxunk се овде не може похвалити , али се може рећи да је ово класично снимљен филм са свом оним елементима које xxmaj xxunk xxmaj грађанин xxmaj кејн донео модерном филму почетком четрдесетих . xxmaj глума је беспрекорна , али су ликови xxunk причи тако да су све улоге xxunk и сведене . xxmaj филм који може да стоји уз наслове класичног холивуда а притом и друштвено ангажован .\n",
       "y: LMLabelList\n",
       ",,,,\n",
       "Path: data/serbmr;\n",
       "\n",
       "Valid: LabelList (337 items)\n",
       "x: LMTextList\n",
       "xxbos xxmaj за разлику од xxmaj xxunk xxmaj xxunk који се xxunk жене у xxmaj србији бави кроз xxunk ' љуби руку ! ' статуса xxmaj зоне xxmaj xxunk , његов , нажалост покојни , вршњак xxmaj xxunk xxmaj xxunk користи једну питку причу за бављење много озбиљнијим проблемом xxmaj ја заиста презирем xxunk . xxmaj ништа мање него xxunk . и тај однос озбиљно ми квари разумевање неких ствари или уметничких дела која су проткана једном или другом ( или било којом xxunk ) од наведених религија . xxmaj имам озбиљан проблем да разумем заплете у неким филмовима , без обзира на историјски или било који други контекст , јер ми је тешко да поверујем да неки људи могу да буду толики морони . xxmaj прво да нешто трпе , друго да другима наносе зло . xxmaj из xxunk xxunk . у овом филму , ( иако то нигде није посебно напоменуто ) смештеном у xxmaj xxunk xxmaj xxunk , и даље се спроводи један xxunk xxunk а то је сечење xxunk малим девојчицама у циљу њихове наводне ' xxunk ' и xxunk xxunk будућег брачног партнера ( кад за то дође време ) . xxmaj поред очигледне намере да се женска особа лиши дела тела и xxunk xxunk који омогућује добар део уживања у сексу , још један разлог зашто ово није добра идеја је то што девојчице у озбиљном броју умиру након овог xxunk перформанса , што од xxunk , што од xxunk и xxunk крви . xxmaj xxunk редитељ , на нашу срећу , није желео да се позабави овим материјалом тако да он буде само нешто око чије ћемо се озбиљности сложити xxunk на уз то xxunk филм . xxmaj xxunk xxmaj xxunk третира скоро као xxmaj феллини xxmaj xxunk , само са xxunk продукцијом , само са јасније xxunk радњом , сконцентрисан на само пар ликова , али као xxmaj феллини . xxmaj са љубављу према својим женским xxunk , са носталгичном симпатијом према животу у малом месту ( селу ) , са бизарном сексуалном xxunk ... xxmaj xxunk је прича о једној од три жене у xxunk xxunk браку у једном афричком селу . xxmaj она на своју руку узима у неку врсту xxunk заштите четири девојчице које су xxunk од горе xxunk ' xxunk ' и та заштита зове се ' xxunk ' . xxmaj пре тога она је и своју једину ћерку xxunk од тога , због чега је xxunk бес локалних xxunk лидера . xxmaj кроз тон који пре одговара комедији , него драми xxmaj xxunk приказује како одлуке ове жене утичу на њен су - живот са друге две супруге , на xxunk венчање са сином сеоског вође , затим на положај њеног мужа и уопште динамику живота у целом селу . xxmaj добре четири xxunk филма ( опростите ми на xxunk ) ми гледамо како село живи , гледамо животе жена којима је једина радост радио на батерије , гледамо xxunk мушкарце који зарад xxunk верских убеђења xxunk све што стигну , али све је то упаковано у формат једног xxunk наивно и xxunk постављених сцена . xxmaj међутим , ангажовани глумци имају довољно шарма да њиховим ликовима ништа не xxunk . у последњој xxunk xxmaj xxunk , с обзиром да зна с ким има посла , xxunk драму и свој филм претвара у про - активан сегмент у коме његове јунакиње дижу глас против злостављања дајући пример свим оним xxunk које тај терор стварно трпе . xxmaj њихови потези су памфлетски наивни , али и бескрајно симпатични , људски и у , xxunk , морам да xxunk , с обзиром на xxunk највероватније вероватни . xxmaj xxunk је пријатна и xxunk лекција из xxunk и људских права . xxmaj најмање што ми можемо да урадимо јесте да xxunk на xxunk мане и гледањем xxunk борбу за боље сутра . xxmaj опростите ми на xxunk xxunk . xxmaj али xxmaj xxunk у више наврата показује да има срца коме се може веровати .,xxbos xxmaj ово ће бити веома кратак осврт . xxmaj разлог за то је ужасно досадан и надасве непотребан филм . xxmaj имамо два лика која раде у xxmaj видео - клубу . xxmaj један од њих бива xxunk ( ! ? ! ) и његовом xxunk све касете одлазе до xxunk . xxmaj када смо већ код тога да је он xxunk , постоји једна одлична сцена у филму када тај лик ( xxmaj џек xxmaj блек ) пролази поред металне ограде . xxmaj мање више то је једина ствар вредна пажње . xxmaj пошто су те касете већ xxunk , њих двојица одлучују да сниме сваки од филмова у сопственој изведби . xxmaj можда је њима било занимљиво да xxunk неке сцене из филмова правећи будале од себе . xxmaj мени је то било ужасно напорно за гледање . xxmaj што је ' најбоље ' од свега , ликовима који xxunk касете код њих се то почне и xxunk и касете добију на значају . xxup wтф ! ? ! xxmaj филмотворци су желели одати почаст видео - xxunk које дефинитивно xxunk . xxmaj направили су једну патетичну , досадну причу у којој се мала , сиромашна xxunk бори против неких xxunk који хоће да их xxunk . xxmaj једног од тих ' злих ' ликова игра и xxmaj сигурни xxmaj вивер која се вероватно нашла у xxunk па су одлучили да сниме 2,3 минута материјала с њом . xxmaj филм се завршава xxunk патетиком . xxmaj ту већ одају почаст xxunk филму . xxmaj ок , схватам , време гази све и неки се тешко мире са тим . xxmaj али како тако xxunk почаст филму када већу популарност од оригиналног садржаја видео - касета добијају две будале које вређају сваки од филмова који је претходно био на тим видео - xxunk ? и таквим ликовима ћу као да поверујем и пустим сузу за њиховом xxunk малом xxunk ... xxmaj као да сценаристи нису схватили да одласком видео - касета не умиру филмови . xxmaj xxunk , xxunk xxmaj xxunk дес xxmaj xxunk ( xxunk ) никада и није био на тој xxunk , али он ће и за још 100 година бити један од најзначајнијих и најбољих филмова икада снимљених . xxmaj шта фали том филму на xxup двд - у ? xxmaj ако желите да погледате нешто што филму одаје почаст на најбољи могући начин , погледајте xxmaj xxunk xxmaj хуга . xxmaj овде момчићи и девојчице нису баш били расположени да xxunk о целој ствари .,xxbos xxmaj колико пута сте гледали филм који вас је у почетку импресионирао , негде на пола почео да буде конфузан , па се та конфузија претворила у xxunk и глупости и филм се завршио као једно обично смеће ? xxmaj верујем да је ' много пута ' ваш одговор . а колико сте пута гледали нешто што је солидно , негде на пола филма сте сконтали да је ствар у нечему xxunk другом , па се све то мало xxunk да би xxunk одличним крајем ? xxmaj колики год да је број таквих филмова које сте одгледали , погледајте овај и xxunk број за један . xxmaj пре свега желим да напоменем да ово није нити конфузно нити језиво какви обично јапанци умеју да буду . xxmaj да су и ту додали још мало xxunk , филм би сигурно био и упечатљивији али и без тога он је свакако одличан . xxmaj питак је за све гледаоце подједнако . xxmaj првим делом филма xxunk ова детективска прича . xxmaj то није она класична детективска прича , убица - убиство - детектив па све у круг . xxmaj ово вам сервира нешто што је прилично оригинално и интригантно . xxmaj xxunk ваше сиве ћелије у покушају да xxunk причу . xxmaj мало после половине филма , чини се да је све xxunk . xxmaj помислио сам да ће сада да буде глупаво xxunk , моралисање или ко зна шта . е , онда филм сервира нешто што се никако не очекује . xxmaj xxunk у сред филма ... није xxunk за крај ... xxmaj наравно браћо и сестре , ово није глупи филм прављен за тинејџере да се ложе на ефекте и / или бруталности без имало мозга . xxmaj ту прича постаје донекле конфузна и прилично мења смер . xxmaj искрено , с обзиром на комплексност саме приче и огромног броја детаља којим се она бави , помислио сам да су направили многе пропусте , али опет морам да признам да сам прилично погрешио . xxmaj филм је то све лепо сложио . xxmaj xxunk је полако градио целу причу , целу атмосферу и то је xxunk одличним крајем . xxmaj поменућу још једну ствар . xxmaj опако ме нервира оно што задњих година xxunk у филмовима ( претежно хорорима ) . xxmaj прича се завршава , мислите свему је крај , али прц ... онда вам неки ретард од сценаристе сервира срање типа ' све ово што сте гледали , то сада ништа не важи , још није готово , ха ха , како смо вас зајебали . ' xxmaj овде сам помислио да ће бити исто . xxmaj али браћо и сестре , оно што је уследило је била класична xxunk на шлагу на торти . xxmaj завршна сцена је тако добро легла на целу причу тако да мирне душе могу да кажем да је ово била права филмска посластица .,xxbos xxmaj xxunk сам у себи . xxmaj као ледена киша xxmaj није тешко поверовати да је овај филм ' према истинитој причи ' . а кад смо већ код тога овако треба да изгледају филмови који претендују да се позабаве нечим ' истинитим ' и побегну од тога што је више могуће . ( xxmaj xxunk , xxunk ноте ! ) xxmaj тешко је поверовати у оно што се десило xxunk xxmaj xxunk ( и хиљадама жена попут ње ) . xxmaj тешко је не остати до сржи прожет xxunk о томе какав је огроман xxunk авиона и туге прошао кроз њен живот и xxunk је . xxmaj па , ипак , она је ту пред нама , као симпатична бакица , комшиница , ' тетка ' , у ( још једном ) xxunk тумачењу xxmaj јуди xxmaj денцх , жива , некако блесаво свесна планине бола на чијем врху седи . xxmaj тешко је не осетити бес и не бити фасциниран са којом лакоћом живот и xxunk стене гура даље . xxmaj тешко је не бити импресиониран како је и xxunk трагедије могуће оставити за собом иако ће се оне xxunk за вама као xxunk сенка xxunk сваки сунчани минут вашег живота . xxmaj оно кад кажу да и ' највеће трагедије ' заправо xxunk на живот и показују колико је живот xxunk и како у том мраку чучи неки мали , xxunk оптимизам . xxmaj пенис ! xxmaj разумети xxmaj xxunk значи xxunk себе у милионе ситних xxunk који ће потом бесмислено постојати у xxunk заувек . xxmaj ово је црни мрак коме смо , у најбољем случају , xxunk колико и xxunk у коме се налази xxunk тигар , и тиме показали да је заједнички живот са том xxunk могућ ! xxmaj са тринаест година xxmaj xxunk xxmaj пхиломена након xxunk xxunk остаје трудна . xxmaj њен огорчени отац оставља је у манастиру , где xxunk сестре , након , xxunk случајно успелог порођаја , брину о њеном детету . xxmaj међутим када дечак xxunk четири године долази велики ауто и одводи га , заједно са још једном девојчицом . xxmaj пхиломена не може ништа да уради , већ само да гледа како га одводе , док и њен живот одлази са њим . xxmaj на дан који би био његов xxunk рођендан , она признаје својој ћерци његово постојање , и стицајем околности то све стиже до xxunk xxup ббц - ијевог новинара xxmaj мартина xxmaj xxunk ( xxmaj стеве xxmaj цооган ) који се заједно са њом упушта у потрагу за сином . и то неће бити једна патетична потрага , ' која ће зближити xxmaj xxunk и xxmaj мартина , и на којој ће се између њих xxunk однос мајке и ( изгубљеног ) сина ' . и то није филм о xxunk изгубљене вере . и то није филм о поновном сусрету . и то није филм о xxunk са прошлошћу . xxmaj захваљујући пре свега xxmaj xxunk , сценаристи и главном глумцу , и xxmaj xxunk xxmaj xxunk xxmaj пхиломена је скоро xxmaj сидеwаyс комедија о двоје људи који имају потпуно различите приступе стварности и ономе што им она доноси . xxmaj xxunk је циничан , xxunk и импресиониран у којој мери је xxmaj пхиломена xxunk у неку своју xxunk , xxunk , xxunk реалност којом бог и xxunk и даље немилосрдно воде главну реч . xxmaj он је њен xxunk бес . а она његово безбрижно пристајање . у исто време xxmaj пхиломена , као де xxunk екранизација једне ' хуман xxunk сторy ' ( типа мелодрамске приче која по xxunk анимира xxmaj xxunk широм света , жене xxunk xxunk , уплетене у животе јунака свих xxup тв сапуница , лаке на xxunk ) чини све да делује као духовита xxunk исте , да xxunk њену моралност и неминовност њених xxunk јер ' живот заиста пише најбоље приче ' . xxmaj пхиломена је у исто време и сатира такве врсте приче , али и њен xxunk xxunk . xxmaj ово је филм тежак као ' апел за помоћ малој xxunk ' , а xxunk као xxmaj фоур xxmaj xxunk анд а xxmaj xxunk . и он је , без сумње , ' филм за тетке ' најбоље врсте . xxmaj за тетке у чијим срцима стоји један црни xxunk , xxunk и xxunk сећања , жива рана и ожиљак који се једва види . xxmaj знам пар таквих .,xxbos xxmaj након вишегодишњег xxunk са xxmaj xxunk xxmaj xxunk који је неспоразум решио xxunk стотине и стотине филмских и телевизијских минута о патњама xxmaj xxunk xxmaj лађарског , xxmaj ђорђе xxmaj xxunk , xxunk појава многих xxup сфрј младости , је , уз подршку читаве своје породице ( а и државних xxunk на више инстанци ) одлучио да уради екранизацију своје песме о xxmaj xxunk xxmaj xxunk . xxmaj након xxunk мука у паклу xxunk остварење xxmaj као рани мраз је напокон xxunk пред публику . xxmaj мање - више . xxmaj продуценткиња xxmaj оливера xxmaj xxunk се наиме xxunk xxunk xxunk - xxunk , те је филм након две готово xxunk пројекције у београдском xxmaj центру xxmaj сава стављен на „ репертоар “ xxunk ( иначе , сасвим пријатне ) сале xxunk седишта xxmaj xxunk . а ових дана креће и „ фестивал једног филма “ – xxmaj као рани мраз ће у пратњи ауторске екипе и xxunk xxunk ( изложба , књиге , xxunk за посетиоце , глумци који xxunk улазнице ) кренути пут провинције . xxmaj нешто попут порно банде xxmaj младена xxmaj ђорђевића , али са друге стране огледала . xxmaj задовољство да присуствујете овом несвакидашњем угођају ће вас коштати xxunk 800 динара ( у xxmaj новом xxmaj саду ) , што у себи носи и благу нијансу милости у односу на xxunk xxunk за београдске пројекције . xxmaj овим потезом xxmaj xxunk су ипак xxunk сваку меру , јер је xxmaj као рани мраз издашно xxunk како са државних xxunk , тако и од стране готово свих крупних друштвених предузећа . xxmaj ђорђе xxmaj xxunk је у филму xxmaj као рани мраз дотакао xxunk xxunk xxunk анти - филма показујући xxunk храброст да се већ у својој xxunk режији супротстави готово свим xxunk законитостима филмског израза . xxmaj тако је xxmaj рани мраз филм без xxunk фокуса и главног лика , који уз то не жели да буде ни широко xxunk друштвена хроника . xxmaj xxunk канда очекује некаквог xxunk xxunk , xxunk да се xxunk у шуми ликова од којих свако , без обзира на релевантност у односу на ток приче , добија простор , да би потом без трага нестао . xxmaj као рани мраз оставља утисак филма - xxunk који за основу има xxunk xxunk . xxmaj xxunk , нажалост , у односу на смисао и филмску xxunk . xxmaj ако оставимо по страни потпуно одсуство самоконтроле када је број ликова у питању , xxunk је xxunk са којим се води ова прича „ што краја нема , а ни почетка “ . xxmaj као рани мраз „ краси “ увод од пуних сат времена , да би се потом xxunk право у низ од готово петнаест завршетака . xxmaj ђорђе xxmaj xxunk у мање - више толико наврата поентира , причу доведе до конца , да би је потом наставио још једном xxunk разговора на тему „ оно наше што некад xxunk “ . xxmaj онда ни не чуди тешко xxunk трајање од xxunk минута и , на пример , егзибиција у виду безмало xxunk сцене у xxmaj xxunk xxunk при почетку филма . xxmaj рани мраз xxunk под теретом xxunk локалних и xxunk стереотипа , што је најгоре у садејству са xxunk већине xxunk улога . xxmaj јасно је да је xxmaj xxunk циљао да направи микрокосмос по мери јунака својих песама , xxunk локалним xxunk , али је управо у овом сегменту ишао уз xxunk очекивањима своје xxunk публике . xxmaj xxunk xxunk овде је у xxunk , али оволико xxunk и овако трапаво xxunk са филмским изразом он понајпре оставља утисак xxunk xxunk . xxmaj даје овај филм повода за уживање , али нажалост сви они заврше у домену грешних xxunk . xxmaj сцена борбе у xxmaj првом светском рату је урнебесна ; xxunk размена локалног доктора и xxunk му супруге ненамерно стиже на сам xxunk xxunk xxunk мозга ; xxunk акценат xxmaj xxunk xxmaj xxunk ненамерно тера у сузе ; сегмент са xxunk доноси спој надреалног и xxunk ; неки од ликова би по логици ствари требало да славе сто и неки рођендан , а још су xxunk xxunk , xxunk риба xxunk са људским очима ... xxmaj xxunk , ово није екранизације приче о xxmaj xxunk xxmaj xxunk . xxmaj један од ликова се збиља тако зове , али ту се мање - више сва сличност завршава . xxmaj наравно , може се xxunk xxunk xxunk који има моћ да xxunk xxunk , али и сам xxmaj xxunk завршава филм управо том својом xxunk , као да је у xxunk шта му је ( било ) чинити . xxmaj овако изведено , xxmaj као рани мраз xxunk у категорију тешке xxunk , јер се xxmaj xxunk одлучио за мање - више xxunk xxunk једне ( познате и драге ) xxunk . xxmaj као рани мраз је филм - догађај , и свакако xxunk простора да се xxunk и xxunk на детаље . xxmaj ипак , ово није некаква xxunk xxunk продукција , те се филм може xxunk по вољи , под xxunk или на платну xxunk између две градске xxunk , а са друге стране српске кинематографије није толико богата и xxunk да може себи да приушти један овако xxunk xxunk . xxmaj ту ни xxunk ни xxunk xxunk xxunk у xxunk којим аутори xxunk посетиоце не помажу . xxmaj уосталом , ни xxmaj леонард xxmaj цохен се није xxunk да режира xxunk xxunk на xxunk своје xxmaj xxunk . xxmaj xxunk се зашто .\n",
       "y: LMLabelList\n",
       ",,,,\n",
       "Path: data/serbmr;\n",
       "\n",
       "Test: None, model=SequentialRNN(\n",
       "  (0): AWD_LSTM(\n",
       "    (encoder): Embedding(34833, 400, padding_idx=1)\n",
       "    (encoder_dp): EmbeddingDropout(\n",
       "      (emb): Embedding(34833, 400, padding_idx=1)\n",
       "    )\n",
       "    (rnns): ModuleList(\n",
       "      (0): WeightDropout(\n",
       "        (module): LSTM(400, 1150, batch_first=True)\n",
       "      )\n",
       "      (1): WeightDropout(\n",
       "        (module): LSTM(1150, 1150, batch_first=True)\n",
       "      )\n",
       "      (2): WeightDropout(\n",
       "        (module): LSTM(1150, 400, batch_first=True)\n",
       "      )\n",
       "    )\n",
       "    (input_dp): RNNDropout()\n",
       "    (hidden_dps): ModuleList(\n",
       "      (0): RNNDropout()\n",
       "      (1): RNNDropout()\n",
       "      (2): RNNDropout()\n",
       "    )\n",
       "  )\n",
       "  (1): LinearDecoder(\n",
       "    (decoder): Linear(in_features=400, out_features=34833, bias=True)\n",
       "    (output_dp): RNNDropout()\n",
       "  )\n",
       "), opt_func=functools.partial(<class 'torch.optim.adam.Adam'>, betas=(0.8, 0.99)), loss_func=FlattenedLoss of CrossEntropyLoss(), metrics=[<function accuracy at 0x7fcf56b377b8>], true_wd=True, bn_wd=True, wd=0.01, train_bn=True, path=PosixPath('data/serbmr'), model_dir='../wiki/sr-100/models', callback_fns=[functools.partial(<class 'fastai.basic_train.Recorder'>, add_time=True), functools.partial(<class 'fastai.callbacks.csv_logger.CSVLogger'>, filename='../wiki/sr-100/models/lm-history'), functools.partial(<class 'fastai.callbacks.tracker.SaveModelCallback'>, every='epoch', name='lm')], callbacks=[RNNTrainer\n",
       "learn: LanguageLearner(data=TextLMDataBunch;\n",
       "\n",
       "Train: LabelList (1344 items)\n",
       "x: LMTextList\n",
       "xxbos xxmaj не знам да ли вам се десило да дан после гледања филма не можете да се сетите xxunk вредног помена . xxmaj мени сигурно јесте . xxmaj очекивао сам много од овог филма а ево и зашто . xxmaj фан сам вестерна , оних класичних са xxmaj џон xxmaj вејном и компанијом . xxmaj нови вестерни могу се набројати на прсте једне руке , а нови а квалитетан још нисам погледао . xxmaj треба наравно да бацим око на xxmaj труе xxmaj грит , мада је и он римејк вестерна са xxmaj џон xxmaj вејном , и xxunk то xxmaj xxunk , који је , гле чуда , исто римејк . xxmaj тако да нове , квалитетне а оригиналне вестерне можемо набројати на прсте кишне xxunk . xxmaj друга ствар због које сам очекивао много су два главна глумца . xxmaj ма не , не мислим на xxmaj меган xxmaj фокс , рекао сам глумца , она , колико год била симпатична , нема баш способност глуме . xxmaj џош бролин је сјајан избор за насловну улогу и стварно опако изгледа са оним одвратним ожиљком . xxmaj али xxmaj џон xxmaj малкович , колико год био феноменалан глумац , колико год га ценим , никако не xxunk за ову улогу . xxmaj замислите рецимо xxmaj шварценегера у љубавном филму , или на пример xxmaj џек xxmaj блека у xxunk . xxmaj постоје ствари које никако не иду . xxmaj филм почиње скроз добро , чисто да вас xxunk не би ли вас још више xxunk . xxmaj сцена у којој се види како је xxmaj јонах xxmaj хеx задобио ожиљак је супер , неколико његових појава су ок , сцена у којој xxmaj фасбендер звучи сјајну мелодију xxmaj wхен xxmaj јохннy xxmaj цомес xxmaj марцхинг xxmaj хоме и наредна пљачка воза су исто сасвим ок . xxmaj све остало је блага пропаст , од сцена у којим xxmaj јонах xxmaj хеx комуницира са мртвима , до његових неких триповања и сваке очајне сцене са xxmaj меган xxmaj фоx ... xxmaj човече , као да су само имали на уму да убаце лепо женско у филм и то је то . xxmaj на крају , овај филм је био велико разочарење , могао је бити стварно добар али су га неке више силе и новац xxunk xxunk у тешку xxunk .,xxbos xxmaj иако изгледа као xxup сф филм , xxmaj битка : xxmaj лос xxmaj анђелес далеко више функционише као ратни филм . xxmaj xxunk и шокантна инвазија ванземаљаца затиче планету xxunk . xxmaj војска покушава да се носи са xxunk ситуацијом , а у фокусу приче је групу маринаца на задатку xxunk цивила из xxunk полицијске станицу у делу xxmaj лос xxmaj анђелеса који већ држе ванземаљци . xxmaj xxunk фокуса на групу војника омогућава xxunk приказ те групе маринаца уз идеје које је дефинишу и xxunk xxunk - идеја вође , идеја xxunk јединице на терену , мото “ но ман лефт бехинд ” и идеју потпуне xxunk зарад xxunk живота цивила . xxmaj после xxunk интервенција америчке војске у xxmaj авганистану и xxmaj ираку , које нису xxunk жељени успех , а пре свега су довеле у питање смисао војних xxunk xxmaj америке , не би било лако осмислити оправданог непријатеља америчким xxunk . xxmaj за то су послужили ванземаљци , о којима у филму сазнајемо да су xxunk далеко напреднији од нас , и да имају врло гадне намере , што је сасвим једноставан приказ али уједно и сасвим довољан . xxmaj таквом поставком , успостављен је једнодимензионални непријатељ пар xxunk , према коме може бити усмерена апсолутна мржња . xxmaj управо то ствара xxunk ситуација , кроз идеалног противника , који ће у првом налету бацити америчке трупе на колена и пружити им прилику да покажу своју xxunk моћ и ефикасност када се после тога уздигну из пепела и сукобе са таквим xxmaj xxunk . xxmaj сложени поступак промовисања бројних квалитета војске , присутан је како у појединачним чиновима војника , тако и у карактеру самог задатка . у филму су пажљиво грађени такви моменти . xxmaj кренути иза непријатељских линија , не марећи за опасност и цену , са циљем спасавања xxunk цивила , полазиште је које ствара представу о војсци као врхунској институцији у служби грађана . xxmaj значај вође , xxunk фигуре која се брине о својим војницима , оцртан је кроз динамику ликова поручника ( xxmaj xxunk xxmaj родригуез ) и водника ( xxmaj аарон xxmaj ецкхарт ) , и њихов однос према војницима . xxmaj један млађи поручник , мораће да научи цену одлуке у xxunk тренутку за животе војника . xxmaj старији xxunk показаће колико је тежак тај терет одговорности . xxmaj кроз сукоб водника и једног од војника чији је брат погинуо под претходном командом водника изложена је неизбежна тескоба услед смрти војника . у сцени xxunk сукоба између њих двојице , емотивно xxunk , концепт одавања поште кроз сећање палим борцима још једном је приказан као начин на који се излази на крај са неизбежно присутном смрћу саборца . xxmaj xxunk притисак како непријатеља тако и временских xxunk за обављање задатка , филму дају xxunk динамику и изразито озбиљан тон . xxmaj то је постигнуто крупним кадровима , њиховим брзим xxunk и константним коришћењем камере из руке . xxmaj осећај моменталне опасности и узбуђења доминира филмом . xxmaj сценографија која сугерише xxunk хаос и безнађе у коме се нашао xxunk xxup л.а. постаје убедљиво окружење за дизање из пепела xxunk америчких војника , који ће , кроз тај процес , показати своју неизмерну xxunk , пожртвованост , ефикасност и храброст .,xxbos xxmaj потпуни фијаско који је филм xxmaj не знам како јој полази за руком доживео на америчким благајнама показао је само оно што се већ подуже xxunk - публика , напросто , није заинтересована да гледа xxmaj сару xxmaj јессицу xxmaj паркер у нечему што није xxunk xxmaj секса и града xxmaj неуспех је тим већи јер је у питању екранизација радо xxunk романа . xxmaj иако је за редитеља узет xxmaj доуглас xxunk , аутор с кредибилитетом и цењеним опусом ( xxmaj емма , xxmaj цомпанy xxmaj мен , xxmaj xxunk ) , чини се да овом пројекту није било помоћи . xxmaj није помогла ни очигледна xxunk амбициозност у приступу . xxmaj он се овде својски упињао да учини полазну основу необичном , те је подоста интервенција унутар кадра и на слици , играни делови прожети су xxunk xxunk споредних ликова директно у камеру , а упадљива је и xxunk визуелна xxunk израза . xxmaj такође , није помогло ни присуство многих поштованих глумаца ( xxmaj пиерце xxmaj броснан , xxmaj грег xxmaj киннеар , xxmaj келсеy xxmaj граммер ) , стратешки xxunk да покривају xxunk глумицу , давних дана xxunk у xxunk xxunk . xxmaj осим xxmaj саре xxmaj јессице xxmaj паркер и суштински веома xxunk лика који тумачи , проблем представљају мањак садржаја и xxunk драме с којом се јунакиња xxunk , баш као и крајње дискутабилна идеолошка потка читаве приче . xxmaj наиме , главна јунакиња је успешна пословна жена , мајка малолетне деце и посвећена супруга , жена без страха и мане , а у сталном стању хаоса , којој се сви диве јер умешно xxunk с толико обавеза . xxmaj наравно , све ове улоге и xxunk представљају терет с којим се носе и жене из наше стварносне димензије , не очекујући при том xxunk xxunk попут xxunk лика овог филма . xxmaj ту долазимо до филма као пуког xxunk xxunk цивилизације , xxunk xxunk xxunk , а крајњи резултат је неубедљива драма и недуховита комедија о лику који није ни најмање интригантан .,xxbos xxmaj четврти xxmaj пиратес оф тхе xxmaj цариббеан филм представља савршен пример онога што су постали летњи блокбастер наставци : xxunk мешавина елемената из прошлих наставака спојених немаштовитим акционим сценама ( које су или инспирисане или дизајниране за видео игрице ) и специјалним ефектима . xxmaj кредити за сценарио иду xxmaj теду xxmaj xxunk и xxmaj xxunk xxmaj xxunk , али једнако лако га је могао xxunk и компјутер . у том случају би барем добили много краћу верзију . xxmaj основна прича је једноставна ; помало је налик чуду како су xxmaj еллиотт и xxmaj xxunk успели да xxunk експозицију и дијалог на xxunk минута филма . xxmaj критика о xxmaj он xxmaj странгер xxmaj тидес као филму има ограничену вредност . xxmaj попут многих летњих блокбастера , осмишљен је тако да пружи тренутну дозу адреналина док враћа публику на неколико познатих ликова и елемената . xxmaj све што ће бити xxunk по изласку из биоскопа јесте да сада постоје четири епизоде у франшизи . xxmaj он xxmaj странгер xxmaj тидес постоји негде између видео игрице и вожње по забавном парку ( у овом случају , други део се може схватити буквално ) и вероватно ће бити довољно за оне који не траже ништа више . xxmaj међутим , чисто сумњам да ће то бити већина од људи који ће свој тешко xxunk новац дати за биоскопску пројекцију ( у xxup 3д - у или добром старом xxup 2д - у ) . xxmaj за постојање xxunk xxmaj пирата можемо пре свега захвалити xxmaj xxunk xxmaj xxunk , чије је интересовање xxunk xxunk са великим бројем нула испред xxunk xxunk . xxmaj ово нико не би требало да му узме за зло ; он је платио своје дугове xxunk радом са редитељима као што су xxmaj јим xxmaj јармусцх и xxmaj террy xxmaj гиллиам . xxmaj ипак , помало је разочаравајуће што је његов допринос наставку xxmaj он xxmaj странгер xxmaj тидес сведен на допадљивост и понашање харизматичног капетана којег је глумио у претходна три филма . xxmaj капетан xxmaj јацк је једнако могао бити анимирана верзија xxunk фигуре xxmaj мадам xxmaj xxunk . xxmaj он xxmaj странгер xxmaj тидес почиње у неко неодређено време после завршетка xxmaj ат xxmaj wорлд'с xxmaj енд . xxmaj капетан xxmaj јацк , у пратњи старе љубави xxmaj xxunk ( xxmaj пенелопе xxmaj цруз ) и њеног оца xxmaj црнобрадог ( xxmaj иан xxunk ) , трага за xxmaj фонтаном xxmaj вечне xxmaj младости . у трци за наградом су још две групе : мала група шпанских војника и енглески xxunk на челу са капетаном xxmaj xxunk ( xxmaj геоффреy xxmaj русх ) . xxmaj као и у свакој мисији , да би се стигло до циља није довољно само пратити мапу , јер успут морају да скупе још две xxunk - два xxunk и сузу сирене . xxmaj неколико ликова се вратило из ранијих пирата , укључујући xxmaj xxunk и xxmaj xxunk xxunk руку , xxmaj xxunk ( xxmaj кевин xxunk ) . xxmaj орландо xxmaj блоом и xxmaj кеира xxmaj книгхтлеy се не појављују и , зачудо , недостају нам . xxmaj xxunk флертовања са xxmaj xxunk била су најбоља ствар у xxmaj деад xxmaj xxunk xxmaj xxunk а , осим тога , два ' xxunk ' лика су представљала контраст кловну капетана xxmaj јацка . xxmaj без њих , овај xxunk је много мање допадљивији . у филм су xxunk и два небитна споредна лика ( xxunk и сирена ) који треба да додају елеменат романсе који недостаје без xxmaj елизабетх xxmaj сwан и xxmaj wилла xxmaj xxunk , али они не успевају да дођу до xxunk . xxmaj тако да је xxmaj јацк остављен са xxmaj xxunk , али једина ствар у вези xxmaj пенелопе xxmaj цруз која није површна у овој улози је њено попрсје . xxmaj режија xxmaj роба xxmaj марсхалла је компетентна и , с техничке тачке посматрања , нема ништа што не ваља са акционим сценама осим што им недостаје узбудљивост . xxmaj поред свих његових мана , xxmaj горе xxmaj вербински је барем врхунски одрадио акцију . xxmaj на много начина , xxmaj он xxmaj странгер xxmaj тидес подсећа на још један четврти наставак , xxmaj индиана xxmaj јонес анд тхе xxmaj кингдом оф тхе xxmaj црyстал xxmaj скулл . xxmaj ниво разочарења је можда мањи јер је xxunk између трећег и четвртог xxmaj пирата само неколико година , док нас је трио xxmaj спиелберг / xxmaj луцас / xxmaj форд натерао да чекамо две деценије . xxmaj ипак , оба филма су xxunk да су филмаџије xxunk да се зауставе на трилогији . xxmaj као филм , xxmaj он xxmaj странгер xxmaj тидес би се сматрао неуспехом . xxmaj прича нас не увлачи , ликови су површни и xxunk , акционе сцене су одрађене , и цела прича смрди на узимање пара . xxmaj ипак , ако се погледа кроз призму онога што се често назива ' xxunk забава ' , филм је релативно јефтин начин да xxunk ум и xxunk чула . xxmaj са добро постављеним очекивањима , можда вас овај xxmaj пиратес оф тхе xxmaj цариббеан неће натерати да се осећате као да сте присуствовали xxunk из шупљег у празно .,xxbos xxmaj британска кинематографија је једна од xxunk кинематографија xxmaj европе и једина која је могла да представља озбиљан пандан xxmaj холивуду . xxmaj управо овај осећај здраве конкуренције између америчког и британског филма је радио у корист xxunk филмске уметности са обе стране xxmaj атлантика . xxmaj британски филм је извршио значајан утицај на xxmaj холивуд четрдесетих и педесетих година , да би са xxunk xxmaj новог холивуда ( xxmaj скорсезе , xxmaj копола , xxmaj xxunk , xxmaj спилберг , xxmaj лукас ) која је донела xxunk филмове у историји филма изгубио трку и касније покушао да са мање или више успеха xxunk нове тенденције у сопственој индустрији . xxmaj једна од најзначајнијих британских продуцентских кућа је управо xxmaj еалинг xxmaj студиос за коју је између осталог снимљен и други филм xxmaj xxunk xxunk ( xxmaj алеxандер xxmaj xxunk ) . xxmaj еалинг xxmaj студиос ће остати упамћен по својим комедијама а једна од најбољих је и последњи филм који је меккендрик снимио за xxmaj еалинг , односно xxmaj xxunk ( xxunk ) . xxmaj после овог филма он ће се xxunk у родној xxmaj америци и снимити ремек дело xxmaj сwеет xxmaj смелл оф xxmaj суццесс ( xxunk ) . xxmaj један од првих успешних филмова редитеља је xxmaj тхе xxmaj ман xxmaj ин xxmaj тхе xxmaj wхите xxmaj xxunk где је меккендрик показао да је искалио занат , да је добар приповедач и да је заинтересован за xxunk модерног капиталистичког друштва које ће касније елаборирати у xxmaj сwеет xxmaj смелл оф xxmaj суццесс . xxmaj протагониста филма је xxmaj сидни xxmaj стетон , xxunk и xxunk који на различите начине покушава да се дочепа xxunk различитих xxunk фабрика не би ли остварио свој експеримент у коме је на трагу да направи xxunk тканину која одбија xxunk . xxmaj иако га првобитно узимају за лудака , xxmaj стетон успева да задобије пажњу директора xxmaj xxunk преко познанства са његовом ћерком . xxmaj када коначно успе да направи тканину а затим и одело , xxmaj стетон се суочава са притисцима капиталиста који се брину за будућност индустрије , али и радника који се брину за посао . xxmaj радници који xxunk борбу за своја права у xxunk , се постављају врло xxunk пред претњом да изгубе посао , не размишљајући о широј слици онога што би xxmaj xxunk проналазак могао да донесе . xxmaj природа капиталистичког система је овде приказана у својој баналности и xxmaj стетон се овде насупрот крупним xxunk могао упоредити са xxmaj xxunk као xxunk и xxunk , насупрот xxunk и xxunk xxunk xxmaj xxunk . xxmaj нека редитељска xxunk се овде не може похвалити , али се може рећи да је ово класично снимљен филм са свом оним елементима које xxmaj xxunk xxmaj грађанин xxmaj кејн донео модерном филму почетком четрдесетих . xxmaj глума је беспрекорна , али су ликови xxunk причи тако да су све улоге xxunk и сведене . xxmaj филм који може да стоји уз наслове класичног холивуда а притом и друштвено ангажован .\n",
       "y: LMLabelList\n",
       ",,,,\n",
       "Path: data/serbmr;\n",
       "\n",
       "Valid: LabelList (337 items)\n",
       "x: LMTextList\n",
       "xxbos xxmaj за разлику од xxmaj xxunk xxmaj xxunk који се xxunk жене у xxmaj србији бави кроз xxunk ' љуби руку ! ' статуса xxmaj зоне xxmaj xxunk , његов , нажалост покојни , вршњак xxmaj xxunk xxmaj xxunk користи једну питку причу за бављење много озбиљнијим проблемом xxmaj ја заиста презирем xxunk . xxmaj ништа мање него xxunk . и тај однос озбиљно ми квари разумевање неких ствари или уметничких дела која су проткана једном или другом ( или било којом xxunk ) од наведених религија . xxmaj имам озбиљан проблем да разумем заплете у неким филмовима , без обзира на историјски или било који други контекст , јер ми је тешко да поверујем да неки људи могу да буду толики морони . xxmaj прво да нешто трпе , друго да другима наносе зло . xxmaj из xxunk xxunk . у овом филму , ( иако то нигде није посебно напоменуто ) смештеном у xxmaj xxunk xxmaj xxunk , и даље се спроводи један xxunk xxunk а то је сечење xxunk малим девојчицама у циљу њихове наводне ' xxunk ' и xxunk xxunk будућег брачног партнера ( кад за то дође време ) . xxmaj поред очигледне намере да се женска особа лиши дела тела и xxunk xxunk који омогућује добар део уживања у сексу , још један разлог зашто ово није добра идеја је то што девојчице у озбиљном броју умиру након овог xxunk перформанса , што од xxunk , што од xxunk и xxunk крви . xxmaj xxunk редитељ , на нашу срећу , није желео да се позабави овим материјалом тако да он буде само нешто око чије ћемо се озбиљности сложити xxunk на уз то xxunk филм . xxmaj xxunk xxmaj xxunk третира скоро као xxmaj феллини xxmaj xxunk , само са xxunk продукцијом , само са јасније xxunk радњом , сконцентрисан на само пар ликова , али као xxmaj феллини . xxmaj са љубављу према својим женским xxunk , са носталгичном симпатијом према животу у малом месту ( селу ) , са бизарном сексуалном xxunk ... xxmaj xxunk је прича о једној од три жене у xxunk xxunk браку у једном афричком селу . xxmaj она на своју руку узима у неку врсту xxunk заштите четири девојчице које су xxunk од горе xxunk ' xxunk ' и та заштита зове се ' xxunk ' . xxmaj пре тога она је и своју једину ћерку xxunk од тога , због чега је xxunk бес локалних xxunk лидера . xxmaj кроз тон који пре одговара комедији , него драми xxmaj xxunk приказује како одлуке ове жене утичу на њен су - живот са друге две супруге , на xxunk венчање са сином сеоског вође , затим на положај њеног мужа и уопште динамику живота у целом селу . xxmaj добре четири xxunk филма ( опростите ми на xxunk ) ми гледамо како село живи , гледамо животе жена којима је једина радост радио на батерије , гледамо xxunk мушкарце који зарад xxunk верских убеђења xxunk све што стигну , али све је то упаковано у формат једног xxunk наивно и xxunk постављених сцена . xxmaj међутим , ангажовани глумци имају довољно шарма да њиховим ликовима ништа не xxunk . у последњој xxunk xxmaj xxunk , с обзиром да зна с ким има посла , xxunk драму и свој филм претвара у про - активан сегмент у коме његове јунакиње дижу глас против злостављања дајући пример свим оним xxunk које тај терор стварно трпе . xxmaj њихови потези су памфлетски наивни , али и бескрајно симпатични , људски и у , xxunk , морам да xxunk , с обзиром на xxunk највероватније вероватни . xxmaj xxunk је пријатна и xxunk лекција из xxunk и људских права . xxmaj најмање што ми можемо да урадимо јесте да xxunk на xxunk мане и гледањем xxunk борбу за боље сутра . xxmaj опростите ми на xxunk xxunk . xxmaj али xxmaj xxunk у више наврата показује да има срца коме се може веровати .,xxbos xxmaj ово ће бити веома кратак осврт . xxmaj разлог за то је ужасно досадан и надасве непотребан филм . xxmaj имамо два лика која раде у xxmaj видео - клубу . xxmaj један од њих бива xxunk ( ! ? ! ) и његовом xxunk све касете одлазе до xxunk . xxmaj када смо већ код тога да је он xxunk , постоји једна одлична сцена у филму када тај лик ( xxmaj џек xxmaj блек ) пролази поред металне ограде . xxmaj мање више то је једина ствар вредна пажње . xxmaj пошто су те касете већ xxunk , њих двојица одлучују да сниме сваки од филмова у сопственој изведби . xxmaj можда је њима било занимљиво да xxunk неке сцене из филмова правећи будале од себе . xxmaj мени је то било ужасно напорно за гледање . xxmaj што је ' најбоље ' од свега , ликовима који xxunk касете код њих се то почне и xxunk и касете добију на значају . xxup wтф ! ? ! xxmaj филмотворци су желели одати почаст видео - xxunk које дефинитивно xxunk . xxmaj направили су једну патетичну , досадну причу у којој се мала , сиромашна xxunk бори против неких xxunk који хоће да их xxunk . xxmaj једног од тих ' злих ' ликова игра и xxmaj сигурни xxmaj вивер која се вероватно нашла у xxunk па су одлучили да сниме 2,3 минута материјала с њом . xxmaj филм се завршава xxunk патетиком . xxmaj ту већ одају почаст xxunk филму . xxmaj ок , схватам , време гази све и неки се тешко мире са тим . xxmaj али како тако xxunk почаст филму када већу популарност од оригиналног садржаја видео - касета добијају две будале које вређају сваки од филмова који је претходно био на тим видео - xxunk ? и таквим ликовима ћу као да поверујем и пустим сузу за њиховом xxunk малом xxunk ... xxmaj као да сценаристи нису схватили да одласком видео - касета не умиру филмови . xxmaj xxunk , xxunk xxmaj xxunk дес xxmaj xxunk ( xxunk ) никада и није био на тој xxunk , али он ће и за још 100 година бити један од најзначајнијих и најбољих филмова икада снимљених . xxmaj шта фали том филму на xxup двд - у ? xxmaj ако желите да погледате нешто што филму одаје почаст на најбољи могући начин , погледајте xxmaj xxunk xxmaj хуга . xxmaj овде момчићи и девојчице нису баш били расположени да xxunk о целој ствари .,xxbos xxmaj колико пута сте гледали филм који вас је у почетку импресионирао , негде на пола почео да буде конфузан , па се та конфузија претворила у xxunk и глупости и филм се завршио као једно обично смеће ? xxmaj верујем да је ' много пута ' ваш одговор . а колико сте пута гледали нешто што је солидно , негде на пола филма сте сконтали да је ствар у нечему xxunk другом , па се све то мало xxunk да би xxunk одличним крајем ? xxmaj колики год да је број таквих филмова које сте одгледали , погледајте овај и xxunk број за један . xxmaj пре свега желим да напоменем да ово није нити конфузно нити језиво какви обично јапанци умеју да буду . xxmaj да су и ту додали још мало xxunk , филм би сигурно био и упечатљивији али и без тога он је свакако одличан . xxmaj питак је за све гледаоце подједнако . xxmaj првим делом филма xxunk ова детективска прича . xxmaj то није она класична детективска прича , убица - убиство - детектив па све у круг . xxmaj ово вам сервира нешто што је прилично оригинално и интригантно . xxmaj xxunk ваше сиве ћелије у покушају да xxunk причу . xxmaj мало после половине филма , чини се да је све xxunk . xxmaj помислио сам да ће сада да буде глупаво xxunk , моралисање или ко зна шта . е , онда филм сервира нешто што се никако не очекује . xxmaj xxunk у сред филма ... није xxunk за крај ... xxmaj наравно браћо и сестре , ово није глупи филм прављен за тинејџере да се ложе на ефекте и / или бруталности без имало мозга . xxmaj ту прича постаје донекле конфузна и прилично мења смер . xxmaj искрено , с обзиром на комплексност саме приче и огромног броја детаља којим се она бави , помислио сам да су направили многе пропусте , али опет морам да признам да сам прилично погрешио . xxmaj филм је то све лепо сложио . xxmaj xxunk је полако градио целу причу , целу атмосферу и то је xxunk одличним крајем . xxmaj поменућу још једну ствар . xxmaj опако ме нервира оно што задњих година xxunk у филмовима ( претежно хорорима ) . xxmaj прича се завршава , мислите свему је крај , али прц ... онда вам неки ретард од сценаристе сервира срање типа ' све ово што сте гледали , то сада ништа не важи , још није готово , ха ха , како смо вас зајебали . ' xxmaj овде сам помислио да ће бити исто . xxmaj али браћо и сестре , оно што је уследило је била класична xxunk на шлагу на торти . xxmaj завршна сцена је тако добро легла на целу причу тако да мирне душе могу да кажем да је ово била права филмска посластица .,xxbos xxmaj xxunk сам у себи . xxmaj као ледена киша xxmaj није тешко поверовати да је овај филм ' према истинитој причи ' . а кад смо већ код тога овако треба да изгледају филмови који претендују да се позабаве нечим ' истинитим ' и побегну од тога што је више могуће . ( xxmaj xxunk , xxunk ноте ! ) xxmaj тешко је поверовати у оно што се десило xxunk xxmaj xxunk ( и хиљадама жена попут ње ) . xxmaj тешко је не остати до сржи прожет xxunk о томе какав је огроман xxunk авиона и туге прошао кроз њен живот и xxunk је . xxmaj па , ипак , она је ту пред нама , као симпатична бакица , комшиница , ' тетка ' , у ( још једном ) xxunk тумачењу xxmaj јуди xxmaj денцх , жива , некако блесаво свесна планине бола на чијем врху седи . xxmaj тешко је не осетити бес и не бити фасциниран са којом лакоћом живот и xxunk стене гура даље . xxmaj тешко је не бити импресиониран како је и xxunk трагедије могуће оставити за собом иако ће се оне xxunk за вама као xxunk сенка xxunk сваки сунчани минут вашег живота . xxmaj оно кад кажу да и ' највеће трагедије ' заправо xxunk на живот и показују колико је живот xxunk и како у том мраку чучи неки мали , xxunk оптимизам . xxmaj пенис ! xxmaj разумети xxmaj xxunk значи xxunk себе у милионе ситних xxunk који ће потом бесмислено постојати у xxunk заувек . xxmaj ово је црни мрак коме смо , у најбољем случају , xxunk колико и xxunk у коме се налази xxunk тигар , и тиме показали да је заједнички живот са том xxunk могућ ! xxmaj са тринаест година xxmaj xxunk xxmaj пхиломена након xxunk xxunk остаје трудна . xxmaj њен огорчени отац оставља је у манастиру , где xxunk сестре , након , xxunk случајно успелог порођаја , брину о њеном детету . xxmaj међутим када дечак xxunk четири године долази велики ауто и одводи га , заједно са још једном девојчицом . xxmaj пхиломена не може ништа да уради , већ само да гледа како га одводе , док и њен живот одлази са њим . xxmaj на дан који би био његов xxunk рођендан , она признаје својој ћерци његово постојање , и стицајем околности то све стиже до xxunk xxup ббц - ијевог новинара xxmaj мартина xxmaj xxunk ( xxmaj стеве xxmaj цооган ) који се заједно са њом упушта у потрагу за сином . и то неће бити једна патетична потрага , ' која ће зближити xxmaj xxunk и xxmaj мартина , и на којој ће се између њих xxunk однос мајке и ( изгубљеног ) сина ' . и то није филм о xxunk изгубљене вере . и то није филм о поновном сусрету . и то није филм о xxunk са прошлошћу . xxmaj захваљујући пре свега xxmaj xxunk , сценаристи и главном глумцу , и xxmaj xxunk xxmaj xxunk xxmaj пхиломена је скоро xxmaj сидеwаyс комедија о двоје људи који имају потпуно различите приступе стварности и ономе што им она доноси . xxmaj xxunk је циничан , xxunk и импресиониран у којој мери је xxmaj пхиломена xxunk у неку своју xxunk , xxunk , xxunk реалност којом бог и xxunk и даље немилосрдно воде главну реч . xxmaj он је њен xxunk бес . а она његово безбрижно пристајање . у исто време xxmaj пхиломена , као де xxunk екранизација једне ' хуман xxunk сторy ' ( типа мелодрамске приче која по xxunk анимира xxmaj xxunk широм света , жене xxunk xxunk , уплетене у животе јунака свих xxup тв сапуница , лаке на xxunk ) чини све да делује као духовита xxunk исте , да xxunk њену моралност и неминовност њених xxunk јер ' живот заиста пише најбоље приче ' . xxmaj пхиломена је у исто време и сатира такве врсте приче , али и њен xxunk xxunk . xxmaj ово је филм тежак као ' апел за помоћ малој xxunk ' , а xxunk као xxmaj фоур xxmaj xxunk анд а xxmaj xxunk . и он је , без сумње , ' филм за тетке ' најбоље врсте . xxmaj за тетке у чијим срцима стоји један црни xxunk , xxunk и xxunk сећања , жива рана и ожиљак који се једва види . xxmaj знам пар таквих .,xxbos xxmaj након вишегодишњег xxunk са xxmaj xxunk xxmaj xxunk који је неспоразум решио xxunk стотине и стотине филмских и телевизијских минута о патњама xxmaj xxunk xxmaj лађарског , xxmaj ђорђе xxmaj xxunk , xxunk појава многих xxup сфрј младости , је , уз подршку читаве своје породице ( а и државних xxunk на више инстанци ) одлучио да уради екранизацију своје песме о xxmaj xxunk xxmaj xxunk . xxmaj након xxunk мука у паклу xxunk остварење xxmaj као рани мраз је напокон xxunk пред публику . xxmaj мање - више . xxmaj продуценткиња xxmaj оливера xxmaj xxunk се наиме xxunk xxunk xxunk - xxunk , те је филм након две готово xxunk пројекције у београдском xxmaj центру xxmaj сава стављен на „ репертоар “ xxunk ( иначе , сасвим пријатне ) сале xxunk седишта xxmaj xxunk . а ових дана креће и „ фестивал једног филма “ – xxmaj као рани мраз ће у пратњи ауторске екипе и xxunk xxunk ( изложба , књиге , xxunk за посетиоце , глумци који xxunk улазнице ) кренути пут провинције . xxmaj нешто попут порно банде xxmaj младена xxmaj ђорђевића , али са друге стране огледала . xxmaj задовољство да присуствујете овом несвакидашњем угођају ће вас коштати xxunk 800 динара ( у xxmaj новом xxmaj саду ) , што у себи носи и благу нијансу милости у односу на xxunk xxunk за београдске пројекције . xxmaj овим потезом xxmaj xxunk су ипак xxunk сваку меру , јер је xxmaj као рани мраз издашно xxunk како са државних xxunk , тако и од стране готово свих крупних друштвених предузећа . xxmaj ђорђе xxmaj xxunk је у филму xxmaj као рани мраз дотакао xxunk xxunk xxunk анти - филма показујући xxunk храброст да се већ у својој xxunk режији супротстави готово свим xxunk законитостима филмског израза . xxmaj тако је xxmaj рани мраз филм без xxunk фокуса и главног лика , који уз то не жели да буде ни широко xxunk друштвена хроника . xxmaj xxunk канда очекује некаквог xxunk xxunk , xxunk да се xxunk у шуми ликова од којих свако , без обзира на релевантност у односу на ток приче , добија простор , да би потом без трага нестао . xxmaj као рани мраз оставља утисак филма - xxunk који за основу има xxunk xxunk . xxmaj xxunk , нажалост , у односу на смисао и филмску xxunk . xxmaj ако оставимо по страни потпуно одсуство самоконтроле када је број ликова у питању , xxunk је xxunk са којим се води ова прича „ што краја нема , а ни почетка “ . xxmaj као рани мраз „ краси “ увод од пуних сат времена , да би се потом xxunk право у низ од готово петнаест завршетака . xxmaj ђорђе xxmaj xxunk у мање - више толико наврата поентира , причу доведе до конца , да би је потом наставио још једном xxunk разговора на тему „ оно наше што некад xxunk “ . xxmaj онда ни не чуди тешко xxunk трајање од xxunk минута и , на пример , егзибиција у виду безмало xxunk сцене у xxmaj xxunk xxunk при почетку филма . xxmaj рани мраз xxunk под теретом xxunk локалних и xxunk стереотипа , што је најгоре у садејству са xxunk већине xxunk улога . xxmaj јасно је да је xxmaj xxunk циљао да направи микрокосмос по мери јунака својих песама , xxunk локалним xxunk , али је управо у овом сегменту ишао уз xxunk очекивањима своје xxunk публике . xxmaj xxunk xxunk овде је у xxunk , али оволико xxunk и овако трапаво xxunk са филмским изразом он понајпре оставља утисак xxunk xxunk . xxmaj даје овај филм повода за уживање , али нажалост сви они заврше у домену грешних xxunk . xxmaj сцена борбе у xxmaj првом светском рату је урнебесна ; xxunk размена локалног доктора и xxunk му супруге ненамерно стиже на сам xxunk xxunk xxunk мозга ; xxunk акценат xxmaj xxunk xxmaj xxunk ненамерно тера у сузе ; сегмент са xxunk доноси спој надреалног и xxunk ; неки од ликова би по логици ствари требало да славе сто и неки рођендан , а још су xxunk xxunk , xxunk риба xxunk са људским очима ... xxmaj xxunk , ово није екранизације приче о xxmaj xxunk xxmaj xxunk . xxmaj један од ликова се збиља тако зове , али ту се мање - више сва сличност завршава . xxmaj наравно , може се xxunk xxunk xxunk који има моћ да xxunk xxunk , али и сам xxmaj xxunk завршава филм управо том својом xxunk , као да је у xxunk шта му је ( било ) чинити . xxmaj овако изведено , xxmaj као рани мраз xxunk у категорију тешке xxunk , јер се xxmaj xxunk одлучио за мање - више xxunk xxunk једне ( познате и драге ) xxunk . xxmaj као рани мраз је филм - догађај , и свакако xxunk простора да се xxunk и xxunk на детаље . xxmaj ипак , ово није некаква xxunk xxunk продукција , те се филм може xxunk по вољи , под xxunk или на платну xxunk између две градске xxunk , а са друге стране српске кинематографије није толико богата и xxunk да може себи да приушти један овако xxunk xxunk . xxmaj ту ни xxunk ни xxunk xxunk xxunk у xxunk којим аутори xxunk посетиоце не помажу . xxmaj уосталом , ни xxmaj леонард xxmaj цохен се није xxunk да режира xxunk xxunk на xxunk своје xxmaj xxunk . xxmaj xxunk се зашто .\n",
       "y: LMLabelList\n",
       ",,,,\n",
       "Path: data/serbmr;\n",
       "\n",
       "Test: None, model=SequentialRNN(\n",
       "  (0): AWD_LSTM(\n",
       "    (encoder): Embedding(34833, 400, padding_idx=1)\n",
       "    (encoder_dp): EmbeddingDropout(\n",
       "      (emb): Embedding(34833, 400, padding_idx=1)\n",
       "    )\n",
       "    (rnns): ModuleList(\n",
       "      (0): WeightDropout(\n",
       "        (module): LSTM(400, 1150, batch_first=True)\n",
       "      )\n",
       "      (1): WeightDropout(\n",
       "        (module): LSTM(1150, 1150, batch_first=True)\n",
       "      )\n",
       "      (2): WeightDropout(\n",
       "        (module): LSTM(1150, 400, batch_first=True)\n",
       "      )\n",
       "    )\n",
       "    (input_dp): RNNDropout()\n",
       "    (hidden_dps): ModuleList(\n",
       "      (0): RNNDropout()\n",
       "      (1): RNNDropout()\n",
       "      (2): RNNDropout()\n",
       "    )\n",
       "  )\n",
       "  (1): LinearDecoder(\n",
       "    (decoder): Linear(in_features=400, out_features=34833, bias=True)\n",
       "    (output_dp): RNNDropout()\n",
       "  )\n",
       "), opt_func=functools.partial(<class 'torch.optim.adam.Adam'>, betas=(0.8, 0.99)), loss_func=FlattenedLoss of CrossEntropyLoss(), metrics=[<function accuracy at 0x7fcf56b377b8>], true_wd=True, bn_wd=True, wd=0.01, train_bn=True, path=PosixPath('data/serbmr'), model_dir='../wiki/sr-100/models', callback_fns=[functools.partial(<class 'fastai.basic_train.Recorder'>, add_time=True), functools.partial(<class 'fastai.callbacks.csv_logger.CSVLogger'>, filename='../wiki/sr-100/models/lm-history'), functools.partial(<class 'fastai.callbacks.tracker.SaveModelCallback'>, every='epoch', name='lm')], callbacks=[...], layer_groups=[Sequential(\n",
       "  (0): WeightDropout(\n",
       "    (module): LSTM(400, 1150, batch_first=True)\n",
       "  )\n",
       "  (1): RNNDropout()\n",
       "), Sequential(\n",
       "  (0): WeightDropout(\n",
       "    (module): LSTM(1150, 1150, batch_first=True)\n",
       "  )\n",
       "  (1): RNNDropout()\n",
       "), Sequential(\n",
       "  (0): WeightDropout(\n",
       "    (module): LSTM(1150, 400, batch_first=True)\n",
       "  )\n",
       "  (1): RNNDropout()\n",
       "), Sequential(\n",
       "  (0): Embedding(34833, 400, padding_idx=1)\n",
       "  (1): EmbeddingDropout(\n",
       "    (emb): Embedding(34833, 400, padding_idx=1)\n",
       "  )\n",
       "  (2): LinearDecoder(\n",
       "    (decoder): Linear(in_features=400, out_features=34833, bias=True)\n",
       "    (output_dp): RNNDropout()\n",
       "  )\n",
       ")], add_time=True)\n",
       "alpha: 2.0\n",
       "beta: 1.0], layer_groups=[Sequential(\n",
       "  (0): WeightDropout(\n",
       "    (module): LSTM(400, 1150, batch_first=True)\n",
       "  )\n",
       "  (1): RNNDropout()\n",
       "), Sequential(\n",
       "  (0): WeightDropout(\n",
       "    (module): LSTM(1150, 1150, batch_first=True)\n",
       "  )\n",
       "  (1): RNNDropout()\n",
       "), Sequential(\n",
       "  (0): WeightDropout(\n",
       "    (module): LSTM(1150, 400, batch_first=True)\n",
       "  )\n",
       "  (1): RNNDropout()\n",
       "), Sequential(\n",
       "  (0): Embedding(34833, 400, padding_idx=1)\n",
       "  (1): EmbeddingDropout(\n",
       "    (emb): Embedding(34833, 400, padding_idx=1)\n",
       "  )\n",
       "  (2): LinearDecoder(\n",
       "    (decoder): Linear(in_features=400, out_features=34833, bias=True)\n",
       "    (output_dp): RNNDropout()\n",
       "  )\n",
       ")], add_time=True)"
      ]
     },
     "execution_count": 22,
     "metadata": {},
     "output_type": "execute_result"
    }
   ],
   "source": [
    "learner.load('fit_head')"
   ]
  },
  {
   "cell_type": "code",
   "execution_count": 23,
   "metadata": {},
   "outputs": [],
   "source": [
    "learner.unfreeze()"
   ]
  },
  {
   "cell_type": "code",
   "execution_count": null,
   "metadata": {},
   "outputs": [],
   "source": [
    "learner.lr_find()"
   ]
  },
  {
   "cell_type": "code",
   "execution_count": 25,
   "metadata": {},
   "outputs": [
    {
     "data": {
      "image/png": "[encoded data removed]",
      "text/plain": [
       "<Figure size 432x288 with 1 Axes>"
      ]
     },
     "metadata": {
      "needs_background": "light"
     },
     "output_type": "display_data"
    }
   ],
   "source": [
    "learner.recorder.plot()"
   ]
  },
  {
   "cell_type": "code",
   "execution_count": null,
   "metadata": {},
   "outputs": [
    {
     "data": {
      "text/html": [
       "\n",
       "    <div>\n",
       "        <style>\n",
       "            /* Turns off some styling */\n",
       "            progress {\n",
       "                /* gets rid of default border in Firefox and Opera. */\n",
       "                border: none;\n",
       "                /* Needs to be in here for Safari polyfill so background images work as expected. */\n",
       "                background-size: auto;\n",
       "            }\n",
       "            .progress-bar-interrupted, .progress-bar-interrupted::-webkit-progress-bar {\n",
       "                background: #F44336;\n",
       "            }\n",
       "        </style>\n",
       "      <progress value='1' class='' max='5', style='width:300px; height:20px; vertical-align: middle;'></progress>\n",
       "      20.00% [1/5 07:45<31:03]\n",
       "    </div>\n",
       "    \n",
       "<table border=\"1\" class=\"dataframe\">\n",
       "  <thead>\n",
       "    <tr style=\"text-align: left;\">\n",
       "      <th>epoch</th>\n",
       "      <th>train_loss</th>\n",
       "      <th>valid_loss</th>\n",
       "      <th>accuracy</th>\n",
       "      <th>time</th>\n",
       "    </tr>\n",
       "  </thead>\n",
       "  <tbody>\n",
       "    <tr>\n",
       "      <td>1</td>\n",
       "      <td>9.396973</td>\n",
       "      <td>7.310815</td>\n",
       "      <td>0.098847</td>\n",
       "      <td>07:45</td>\n",
       "    </tr>\n",
       "  </tbody>\n",
       "</table><p>\n",
       "\n",
       "    <div>\n",
       "        <style>\n",
       "            /* Turns off some styling */\n",
       "            progress {\n",
       "                /* gets rid of default border in Firefox and Opera. */\n",
       "                border: none;\n",
       "                /* Needs to be in here for Safari polyfill so background images work as expected. */\n",
       "                background-size: auto;\n",
       "            }\n",
       "            .progress-bar-interrupted, .progress-bar-interrupted::-webkit-progress-bar {\n",
       "                background: #F44336;\n",
       "            }\n",
       "        </style>\n",
       "      <progress value='1780' class='' max='2863', style='width:300px; height:20px; vertical-align: middle;'></progress>\n",
       "      62.17% [1780/2863 04:27<02:42 8.2274]\n",
       "    </div>\n",
       "    "
      ],
      "text/plain": [
       "<IPython.core.display.HTML object>"
      ]
     },
     "metadata": {},
     "output_type": "display_data"
    }
   ],
   "source": [
    "learner.fit_one_cycle(5, 1e-3) #, moms=moms)"
   ]
  },
  {
   "cell_type": "code",
   "execution_count": 62,
   "metadata": {},
   "outputs": [],
   "source": [
    "# save fine_tuned model\n",
    "learner.save('fine_tuned')"
   ]
  },
  {
   "cell_type": "code",
   "execution_count": 63,
   "metadata": {},
   "outputs": [],
   "source": [
    "# save finetuned models encoder to use for classification task\n",
    "learner.save_encoder('fine_tuned_enc')"
   ]
  },
  {
   "cell_type": "code",
   "execution_count": 66,
   "metadata": {},
   "outputs": [],
   "source": [
    "# check text generation with LM\n",
    "TEXT = translit(\"testiranjem ovog modela dobija se\", 'sr')\n",
    "N_WORDS = 10\n",
    "N_SENTENCES = 2"
   ]
  },
  {
   "cell_type": "code",
   "execution_count": 67,
   "metadata": {},
   "outputs": [
    {
     "name": "stdout",
     "output_type": "stream",
     "text": [
      "тестирањем овог модела добија се налази се одвија у филму , Захваљујући затим\n",
      "тестирањем овог модела добија се . Тхе Оф Тхе Добри\n"
     ]
    }
   ],
   "source": [
    "print(\"\\n\".join(learner.predict(TEXT, N_WORDS, temperature=0.75) for _ in range(N_SENTENCES)))"
   ]
  }
 ],
 "metadata": {
  "kernelspec": {
   "display_name": "Python 3",
   "language": "python",
   "name": "python3"
  },
  "language_info": {
   "codemirror_mode": {
    "name": "ipython",
    "version": 3
   },
   "file_extension": ".py",
   "mimetype": "text/x-python",
   "name": "python",
   "nbconvert_exporter": "python",
   "pygments_lexer": "ipython3",
   "version": "3.7.1"
  }
 },
 "nbformat": 4,
 "nbformat_minor": 2
}
